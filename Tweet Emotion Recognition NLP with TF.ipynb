{
 "cells": [
  {
   "cell_type": "markdown",
   "metadata": {
    "id": "sp7D0ktn5eiG"
   },
   "source": [
    "## Tweet Emotion Recognition: Natural Language Processing with TensorFlow\n",
    "\n",
    "---\n",
    "\n",
    "Dataset: [Tweet Emotion Dataset](https://github.com/dair-ai/emotion_dataset)\n",
    "\n",
    "This is a starter notebook for the guided project [Tweet Emotion Recognition with TensorFlow](https://www.coursera.org/projects/tweet-emotion-tensorflow)\n",
    "\n",
    "A complete version of this notebook is available in the course resources\n",
    "\n",
    "---\n",
    "\n",
    "## Task 1: Introduction"
   ]
  },
  {
   "cell_type": "markdown",
   "metadata": {
    "id": "cprXxkrMxIgT"
   },
   "source": [
    "## Task 2: Setup and Imports\n",
    "\n",
    "1. Installing Hugging Face's nlp package\n",
    "2. Importing libraries"
   ]
  },
  {
   "cell_type": "code",
   "execution_count": 1,
   "metadata": {
    "colab": {
     "base_uri": "https://localhost:8080/"
    },
    "executionInfo": {
     "elapsed": 2830,
     "status": "ok",
     "timestamp": 1676998323954,
     "user": {
      "displayName": "Plabon paul.",
      "userId": "12792684054671737244"
     },
     "user_tz": -360
    },
    "id": "5agZRy-45i0g",
    "outputId": "6f6500c5-2485-4901-83ae-84f9ea1eab87"
   },
   "outputs": [
    {
     "name": "stdout",
     "output_type": "stream",
     "text": [
      "Looking in indexes: https://pypi.org/simple, https://us-python.pkg.dev/colab-wheels/public/simple/\n",
      "Requirement already satisfied: nlp in /usr/local/lib/python3.8/dist-packages (0.4.0)\n",
      "Requirement already satisfied: requests>=2.19.0 in /usr/local/lib/python3.8/dist-packages (from nlp) (2.25.1)\n",
      "Requirement already satisfied: numpy in /usr/local/lib/python3.8/dist-packages (from nlp) (1.21.6)\n",
      "Requirement already satisfied: dill in /usr/local/lib/python3.8/dist-packages (from nlp) (0.3.6)\n",
      "Requirement already satisfied: pandas in /usr/local/lib/python3.8/dist-packages (from nlp) (1.3.5)\n",
      "Requirement already satisfied: pyarrow>=0.16.0 in /usr/local/lib/python3.8/dist-packages (from nlp) (9.0.0)\n",
      "Requirement already satisfied: filelock in /usr/local/lib/python3.8/dist-packages (from nlp) (3.9.0)\n",
      "Requirement already satisfied: tqdm>=4.27 in /usr/local/lib/python3.8/dist-packages (from nlp) (4.64.1)\n",
      "Requirement already satisfied: xxhash in /usr/local/lib/python3.8/dist-packages (from nlp) (3.2.0)\n",
      "Requirement already satisfied: chardet<5,>=3.0.2 in /usr/local/lib/python3.8/dist-packages (from requests>=2.19.0->nlp) (3.0.4)\n",
      "Requirement already satisfied: certifi>=2017.4.17 in /usr/local/lib/python3.8/dist-packages (from requests>=2.19.0->nlp) (2022.12.7)\n",
      "Requirement already satisfied: idna<3,>=2.5 in /usr/local/lib/python3.8/dist-packages (from requests>=2.19.0->nlp) (2.10)\n",
      "Requirement already satisfied: urllib3<1.27,>=1.21.1 in /usr/local/lib/python3.8/dist-packages (from requests>=2.19.0->nlp) (1.26.14)\n",
      "Requirement already satisfied: pytz>=2017.3 in /usr/local/lib/python3.8/dist-packages (from pandas->nlp) (2022.7.1)\n",
      "Requirement already satisfied: python-dateutil>=2.7.3 in /usr/local/lib/python3.8/dist-packages (from pandas->nlp) (2.8.2)\n",
      "Requirement already satisfied: six>=1.5 in /usr/local/lib/python3.8/dist-packages (from python-dateutil>=2.7.3->pandas->nlp) (1.15.0)\n"
     ]
    }
   ],
   "source": [
    "!pip install nlp"
   ]
  },
  {
   "cell_type": "code",
   "execution_count": 2,
   "metadata": {
    "colab": {
     "base_uri": "https://localhost:8080/"
    },
    "executionInfo": {
     "elapsed": 2736,
     "status": "ok",
     "timestamp": 1676998326684,
     "user": {
      "displayName": "Plabon paul.",
      "userId": "12792684054671737244"
     },
     "user_tz": -360
    },
    "id": "u9jDlzqrngQd",
    "outputId": "a5807eff-e119-4ff7-e9d8-ea7b85bdf910"
   },
   "outputs": [
    {
     "name": "stdout",
     "output_type": "stream",
     "text": [
      "Looking in indexes: https://pypi.org/simple, https://us-python.pkg.dev/colab-wheels/public/simple/\n",
      "Requirement already satisfied: datasets in /usr/local/lib/python3.8/dist-packages (2.9.0)\n",
      "Requirement already satisfied: dill<0.3.7 in /usr/local/lib/python3.8/dist-packages (from datasets) (0.3.6)\n",
      "Requirement already satisfied: xxhash in /usr/local/lib/python3.8/dist-packages (from datasets) (3.2.0)\n",
      "Requirement already satisfied: pandas in /usr/local/lib/python3.8/dist-packages (from datasets) (1.3.5)\n",
      "Requirement already satisfied: fsspec[http]>=2021.11.1 in /usr/local/lib/python3.8/dist-packages (from datasets) (2023.1.0)\n",
      "Requirement already satisfied: packaging in /usr/local/lib/python3.8/dist-packages (from datasets) (23.0)\n",
      "Requirement already satisfied: pyyaml>=5.1 in /usr/local/lib/python3.8/dist-packages (from datasets) (6.0)\n",
      "Requirement already satisfied: responses<0.19 in /usr/local/lib/python3.8/dist-packages (from datasets) (0.18.0)\n",
      "Requirement already satisfied: requests>=2.19.0 in /usr/local/lib/python3.8/dist-packages (from datasets) (2.25.1)\n",
      "Requirement already satisfied: aiohttp in /usr/local/lib/python3.8/dist-packages (from datasets) (3.8.4)\n",
      "Requirement already satisfied: huggingface-hub<1.0.0,>=0.2.0 in /usr/local/lib/python3.8/dist-packages (from datasets) (0.12.1)\n",
      "Requirement already satisfied: numpy>=1.17 in /usr/local/lib/python3.8/dist-packages (from datasets) (1.21.6)\n",
      "Requirement already satisfied: multiprocess in /usr/local/lib/python3.8/dist-packages (from datasets) (0.70.14)\n",
      "Requirement already satisfied: pyarrow>=6.0.0 in /usr/local/lib/python3.8/dist-packages (from datasets) (9.0.0)\n",
      "Requirement already satisfied: tqdm>=4.62.1 in /usr/local/lib/python3.8/dist-packages (from datasets) (4.64.1)\n",
      "Requirement already satisfied: yarl<2.0,>=1.0 in /usr/local/lib/python3.8/dist-packages (from aiohttp->datasets) (1.8.2)\n",
      "Requirement already satisfied: async-timeout<5.0,>=4.0.0a3 in /usr/local/lib/python3.8/dist-packages (from aiohttp->datasets) (4.0.2)\n",
      "Requirement already satisfied: multidict<7.0,>=4.5 in /usr/local/lib/python3.8/dist-packages (from aiohttp->datasets) (6.0.4)\n",
      "Requirement already satisfied: aiosignal>=1.1.2 in /usr/local/lib/python3.8/dist-packages (from aiohttp->datasets) (1.3.1)\n",
      "Requirement already satisfied: attrs>=17.3.0 in /usr/local/lib/python3.8/dist-packages (from aiohttp->datasets) (22.2.0)\n",
      "Requirement already satisfied: frozenlist>=1.1.1 in /usr/local/lib/python3.8/dist-packages (from aiohttp->datasets) (1.3.3)\n",
      "Requirement already satisfied: charset-normalizer<4.0,>=2.0 in /usr/local/lib/python3.8/dist-packages (from aiohttp->datasets) (3.0.1)\n",
      "Requirement already satisfied: typing-extensions>=3.7.4.3 in /usr/local/lib/python3.8/dist-packages (from huggingface-hub<1.0.0,>=0.2.0->datasets) (4.5.0)\n",
      "Requirement already satisfied: filelock in /usr/local/lib/python3.8/dist-packages (from huggingface-hub<1.0.0,>=0.2.0->datasets) (3.9.0)\n",
      "Requirement already satisfied: chardet<5,>=3.0.2 in /usr/local/lib/python3.8/dist-packages (from requests>=2.19.0->datasets) (3.0.4)\n",
      "Requirement already satisfied: certifi>=2017.4.17 in /usr/local/lib/python3.8/dist-packages (from requests>=2.19.0->datasets) (2022.12.7)\n",
      "Requirement already satisfied: idna<3,>=2.5 in /usr/local/lib/python3.8/dist-packages (from requests>=2.19.0->datasets) (2.10)\n",
      "Requirement already satisfied: urllib3<1.27,>=1.21.1 in /usr/local/lib/python3.8/dist-packages (from requests>=2.19.0->datasets) (1.26.14)\n",
      "Requirement already satisfied: pytz>=2017.3 in /usr/local/lib/python3.8/dist-packages (from pandas->datasets) (2022.7.1)\n",
      "Requirement already satisfied: python-dateutil>=2.7.3 in /usr/local/lib/python3.8/dist-packages (from pandas->datasets) (2.8.2)\n",
      "Requirement already satisfied: six>=1.5 in /usr/local/lib/python3.8/dist-packages (from python-dateutil>=2.7.3->pandas->datasets) (1.15.0)\n"
     ]
    }
   ],
   "source": [
    "!pip install datasets"
   ]
  },
  {
   "cell_type": "code",
   "execution_count": 3,
   "metadata": {
    "colab": {
     "base_uri": "https://localhost:8080/"
    },
    "executionInfo": {
     "elapsed": 5335,
     "status": "ok",
     "timestamp": 1676998332016,
     "user": {
      "displayName": "Plabon paul.",
      "userId": "12792684054671737244"
     },
     "user_tz": -360
    },
    "id": "yKFjWz6e5eiH",
    "outputId": "b777afe1-7746-44ce-b7a5-eb2066f033b6"
   },
   "outputs": [
    {
     "name": "stdout",
     "output_type": "stream",
     "text": [
      "Using TensorFlow version 2.11.0\n"
     ]
    }
   ],
   "source": [
    "%matplotlib inline\n",
    "\n",
    "import tensorflow as tf\n",
    "import numpy as np\n",
    "import matplotlib.pyplot as plt\n",
    "import nlp\n",
    "import random\n",
    "\n",
    "\n",
    "def show_history(h):\n",
    "    epochs_trained = len(h.history['loss'])\n",
    "    plt.figure(figsize=(16, 6))\n",
    "\n",
    "    plt.subplot(1, 2, 1)\n",
    "    plt.plot(range(0, epochs_trained), h.history.get('accuracy'), label='Training')\n",
    "    plt.plot(range(0, epochs_trained), h.history.get('val_accuracy'), label='Validation')\n",
    "    plt.ylim([0., 1.])\n",
    "    plt.xlabel('Epochs')\n",
    "    plt.ylabel('Accuracy')\n",
    "    plt.legend()\n",
    "\n",
    "    plt.subplot(1, 2, 2)\n",
    "    plt.plot(range(0, epochs_trained), h.history.get('loss'), label='Training')\n",
    "    plt.plot(range(0, epochs_trained), h.history.get('val_loss'), label='Validation')\n",
    "    plt.xlabel('Epochs')\n",
    "    plt.ylabel('Loss')\n",
    "    plt.legend()\n",
    "    plt.show()\n",
    "\n",
    "    \n",
    "def show_confusion_matrix(y_true, y_pred, classes):\n",
    "    from sklearn.metrics import confusion_matrix\n",
    "    \n",
    "    cm = confusion_matrix(y_true, y_pred, normalize='true')\n",
    "\n",
    "    plt.figure(figsize=(8, 8))\n",
    "    sp = plt.subplot(1, 1, 1)\n",
    "    ctx = sp.matshow(cm)\n",
    "    plt.xticks(list(range(0, 6)), labels=classes)\n",
    "    plt.yticks(list(range(0, 6)), labels=classes)\n",
    "    plt.colorbar(ctx)\n",
    "    plt.show()\n",
    "\n",
    "    \n",
    "print('Using TensorFlow version', tf.__version__)"
   ]
  },
  {
   "cell_type": "markdown",
   "metadata": {
    "id": "7JsBpezExIga"
   },
   "source": [
    "## Task 3: Importing Data\n",
    "\n",
    "1. Importing the Tweet Emotion dataset\n",
    "2. Creating train, validation and test sets\n",
    "3. Extracting tweets and labels from the examples"
   ]
  },
  {
   "cell_type": "code",
   "execution_count": 4,
   "metadata": {
    "colab": {
     "base_uri": "https://localhost:8080/",
     "height": 84,
     "referenced_widgets": [
      "b0eea98cf15e4e52a9928a292bda4a2d",
      "9460f3c08ac24d86bedb0dc84c9e2446",
      "9e86cf44d92643049316ea8316a525c1",
      "e4507ab0fe26484bb100a53e80593c2e",
      "988dc3f698f74e53a726cddea85cdc23",
      "769d128ac08e4c4d88fbbc8fe5e6688b",
      "58a01055b5fc4ae7a8f23786f19d4a35",
      "dc307ccf3d2d4d76923878b2de8d450e",
      "7a68d710185e4af7901f2afc44f02a11",
      "bb3bda2334f44a31bb66957576e2db12",
      "2e7a674a4d474178bbb54cf70d205a03"
     ]
    },
    "executionInfo": {
     "elapsed": 6707,
     "status": "ok",
     "timestamp": 1676998338720,
     "user": {
      "displayName": "Plabon paul.",
      "userId": "12792684054671737244"
     },
     "user_tz": -360
    },
    "id": "0YHOvjAu5eiL",
    "outputId": "11e39f54-32fc-4dc4-cd31-34c1f3854c04"
   },
   "outputs": [
    {
     "name": "stderr",
     "output_type": "stream",
     "text": [
      "WARNING:datasets.builder:No config specified, defaulting to: emotion/split\n",
      "WARNING:datasets.builder:Found cached dataset emotion (/root/.cache/huggingface/datasets/emotion/split/1.0.0/cca5efe2dfeb58c1d098e0f9eeb200e9927d889b5a03c67097275dfb5fe463bd)\n"
     ]
    },
    {
     "data": {
      "application/vnd.jupyter.widget-view+json": {
       "model_id": "b0eea98cf15e4e52a9928a292bda4a2d",
       "version_major": 2,
       "version_minor": 0
      },
      "text/plain": [
       "  0%|          | 0/3 [00:00<?, ?it/s]"
      ]
     },
     "metadata": {},
     "output_type": "display_data"
    }
   ],
   "source": [
    "import datasets\n",
    "\n",
    "dataset = datasets.load_dataset('emotion')"
   ]
  },
  {
   "cell_type": "code",
   "execution_count": 11,
   "metadata": {
    "colab": {
     "base_uri": "https://localhost:8080/"
    },
    "executionInfo": {
     "elapsed": 8,
     "status": "ok",
     "timestamp": 1676997607058,
     "user": {
      "displayName": "Plabon paul.",
      "userId": "12792684054671737244"
     },
     "user_tz": -360
    },
    "id": "2s0h541FxIgc",
    "outputId": "9ac34243-7e36-492f-b823-309f908841c9"
   },
   "outputs": [
    {
     "data": {
      "text/plain": [
       "DatasetDict({\n",
       "    train: Dataset({\n",
       "        features: ['text', 'label'],\n",
       "        num_rows: 16000\n",
       "    })\n",
       "    validation: Dataset({\n",
       "        features: ['text', 'label'],\n",
       "        num_rows: 2000\n",
       "    })\n",
       "    test: Dataset({\n",
       "        features: ['text', 'label'],\n",
       "        num_rows: 2000\n",
       "    })\n",
       "})"
      ]
     },
     "execution_count": 11,
     "metadata": {},
     "output_type": "execute_result"
    }
   ],
   "source": [
    "dataset"
   ]
  },
  {
   "cell_type": "code",
   "execution_count": 5,
   "metadata": {
    "executionInfo": {
     "elapsed": 15,
     "status": "ok",
     "timestamp": 1676998338721,
     "user": {
      "displayName": "Plabon paul.",
      "userId": "12792684054671737244"
     },
     "user_tz": -360
    },
    "id": "z7eCnxU25eiN"
   },
   "outputs": [],
   "source": [
    "train = dataset[\"train\"]\n",
    "test = dataset['test']\n",
    "val = dataset['validation']\n"
   ]
  },
  {
   "cell_type": "code",
   "execution_count": 6,
   "metadata": {
    "executionInfo": {
     "elapsed": 17,
     "status": "ok",
     "timestamp": 1676998338725,
     "user": {
      "displayName": "Plabon paul.",
      "userId": "12792684054671737244"
     },
     "user_tz": -360
    },
    "id": "oDYXMfZy5eiP"
   },
   "outputs": [],
   "source": [
    "def get_tweet(data):\n",
    "  tweets = [x['text'] for x in data]\n",
    "  label = [x['label'] for x in data]\n",
    "  return tweets, label"
   ]
  },
  {
   "cell_type": "code",
   "execution_count": 7,
   "metadata": {
    "executionInfo": {
     "elapsed": 18,
     "status": "ok",
     "timestamp": 1676998338727,
     "user": {
      "displayName": "Plabon paul.",
      "userId": "12792684054671737244"
     },
     "user_tz": -360
    },
    "id": "M3BbATldqMTJ"
   },
   "outputs": [],
   "source": [
    "tweets, labels = get_tweet(train)"
   ]
  },
  {
   "cell_type": "code",
   "execution_count": null,
   "metadata": {
    "colab": {
     "base_uri": "https://localhost:8080/",
     "height": 36
    },
    "executionInfo": {
     "elapsed": 21,
     "status": "ok",
     "timestamp": 1676942744789,
     "user": {
      "displayName": "Plabon paul.",
      "userId": "12792684054671737244"
     },
     "user_tz": -360
    },
    "id": "zjoiXS1AzoIg",
    "outputId": "2c16b8ce-ac3e-4391-96a1-8e8e19a7b6f2"
   },
   "outputs": [
    {
     "data": {
      "application/vnd.google.colaboratory.intrinsic+json": {
       "type": "string"
      },
      "text/plain": [
       "'i didnt feel humiliated'"
      ]
     },
     "execution_count": 9,
     "metadata": {},
     "output_type": "execute_result"
    }
   ],
   "source": [
    "tweets[0]"
   ]
  },
  {
   "cell_type": "code",
   "execution_count": 8,
   "metadata": {
    "colab": {
     "base_uri": "https://localhost:8080/"
    },
    "executionInfo": {
     "elapsed": 19,
     "status": "ok",
     "timestamp": 1676998338728,
     "user": {
      "displayName": "Plabon paul.",
      "userId": "12792684054671737244"
     },
     "user_tz": -360
    },
    "id": "jeq3-vSB5eiR",
    "outputId": "23526d2e-f702-4b38-ce65-5a4f6adf7b34"
   },
   "outputs": [
    {
     "data": {
      "text/plain": [
       "('i feel like the supportive wife who does whatever he says and sits at home waiting for him to call with a plan of action',\n",
       " 2)"
      ]
     },
     "execution_count": 8,
     "metadata": {},
     "output_type": "execute_result"
    }
   ],
   "source": [
    "import random\n",
    "\n",
    "x = random.randint(0,len(labels))\n",
    "tweets[x],labels[x]"
   ]
  },
  {
   "cell_type": "code",
   "execution_count": 9,
   "metadata": {
    "colab": {
     "base_uri": "https://localhost:8080/"
    },
    "executionInfo": {
     "elapsed": 7202,
     "status": "ok",
     "timestamp": 1676998348759,
     "user": {
      "displayName": "Plabon paul.",
      "userId": "12792684054671737244"
     },
     "user_tz": -360
    },
    "id": "8NICltqhqkex",
    "outputId": "f4dfd0dc-96a4-4c1d-b1ea-a3ceff2a817f"
   },
   "outputs": [
    {
     "name": "stdout",
     "output_type": "stream",
     "text": [
      "Looking in indexes: https://pypi.org/simple, https://us-python.pkg.dev/colab-wheels/public/simple/\n",
      "Requirement already satisfied: googletrans==3.1.0a0 in /usr/local/lib/python3.8/dist-packages (3.1.0a0)\n",
      "Requirement already satisfied: httpx==0.13.3 in /usr/local/lib/python3.8/dist-packages (from googletrans==3.1.0a0) (0.13.3)\n",
      "Requirement already satisfied: rfc3986<2,>=1.3 in /usr/local/lib/python3.8/dist-packages (from httpx==0.13.3->googletrans==3.1.0a0) (1.5.0)\n",
      "Requirement already satisfied: chardet==3.* in /usr/local/lib/python3.8/dist-packages (from httpx==0.13.3->googletrans==3.1.0a0) (3.0.4)\n",
      "Requirement already satisfied: sniffio in /usr/local/lib/python3.8/dist-packages (from httpx==0.13.3->googletrans==3.1.0a0) (1.3.0)\n",
      "Requirement already satisfied: idna==2.* in /usr/local/lib/python3.8/dist-packages (from httpx==0.13.3->googletrans==3.1.0a0) (2.10)\n",
      "Requirement already satisfied: hstspreload in /usr/local/lib/python3.8/dist-packages (from httpx==0.13.3->googletrans==3.1.0a0) (2023.1.1)\n",
      "Requirement already satisfied: httpcore==0.9.* in /usr/local/lib/python3.8/dist-packages (from httpx==0.13.3->googletrans==3.1.0a0) (0.9.1)\n",
      "Requirement already satisfied: certifi in /usr/local/lib/python3.8/dist-packages (from httpx==0.13.3->googletrans==3.1.0a0) (2022.12.7)\n",
      "Requirement already satisfied: h11<0.10,>=0.8 in /usr/local/lib/python3.8/dist-packages (from httpcore==0.9.*->httpx==0.13.3->googletrans==3.1.0a0) (0.9.0)\n",
      "Requirement already satisfied: h2==3.* in /usr/local/lib/python3.8/dist-packages (from httpcore==0.9.*->httpx==0.13.3->googletrans==3.1.0a0) (3.2.0)\n",
      "Requirement already satisfied: hpack<4,>=3.0 in /usr/local/lib/python3.8/dist-packages (from h2==3.*->httpcore==0.9.*->httpx==0.13.3->googletrans==3.1.0a0) (3.0.0)\n",
      "Requirement already satisfied: hyperframe<6,>=5.2.0 in /usr/local/lib/python3.8/dist-packages (from h2==3.*->httpcore==0.9.*->httpx==0.13.3->googletrans==3.1.0a0) (5.2.0)\n"
     ]
    }
   ],
   "source": [
    "!pip install googletrans==3.1.0a0"
   ]
  },
  {
   "cell_type": "code",
   "execution_count": 2,
   "metadata": {
    "colab": {
     "base_uri": "https://localhost:8080/"
    },
    "executionInfo": {
     "elapsed": 971,
     "status": "ok",
     "timestamp": 1676996827124,
     "user": {
      "displayName": "Plabon paul.",
      "userId": "12792684054671737244"
     },
     "user_tz": -360
    },
    "id": "oguZujq3qZkK",
    "outputId": "f91017da-f084-4cd7-970d-a61745ab6d7b"
   },
   "outputs": [
    {
     "name": "stdout",
     "output_type": "stream",
     "text": [
      "{'af': 'afrikaans', 'sq': 'albanian', 'am': 'amharic', 'ar': 'arabic', 'hy': 'armenian', 'az': 'azerbaijani', 'eu': 'basque', 'be': 'belarusian', 'bn': 'bengali', 'bs': 'bosnian', 'bg': 'bulgarian', 'ca': 'catalan', 'ceb': 'cebuano', 'ny': 'chichewa', 'zh-cn': 'chinese (simplified)', 'zh-tw': 'chinese (traditional)', 'co': 'corsican', 'hr': 'croatian', 'cs': 'czech', 'da': 'danish', 'nl': 'dutch', 'en': 'english', 'eo': 'esperanto', 'et': 'estonian', 'tl': 'filipino', 'fi': 'finnish', 'fr': 'french', 'fy': 'frisian', 'gl': 'galician', 'ka': 'georgian', 'de': 'german', 'el': 'greek', 'gu': 'gujarati', 'ht': 'haitian creole', 'ha': 'hausa', 'haw': 'hawaiian', 'iw': 'hebrew', 'he': 'hebrew', 'hi': 'hindi', 'hmn': 'hmong', 'hu': 'hungarian', 'is': 'icelandic', 'ig': 'igbo', 'id': 'indonesian', 'ga': 'irish', 'it': 'italian', 'ja': 'japanese', 'jw': 'javanese', 'kn': 'kannada', 'kk': 'kazakh', 'km': 'khmer', 'ko': 'korean', 'ku': 'kurdish (kurmanji)', 'ky': 'kyrgyz', 'lo': 'lao', 'la': 'latin', 'lv': 'latvian', 'lt': 'lithuanian', 'lb': 'luxembourgish', 'mk': 'macedonian', 'mg': 'malagasy', 'ms': 'malay', 'ml': 'malayalam', 'mt': 'maltese', 'mi': 'maori', 'mr': 'marathi', 'mn': 'mongolian', 'my': 'myanmar (burmese)', 'ne': 'nepali', 'no': 'norwegian', 'or': 'odia', 'ps': 'pashto', 'fa': 'persian', 'pl': 'polish', 'pt': 'portuguese', 'pa': 'punjabi', 'ro': 'romanian', 'ru': 'russian', 'sm': 'samoan', 'gd': 'scots gaelic', 'sr': 'serbian', 'st': 'sesotho', 'sn': 'shona', 'sd': 'sindhi', 'si': 'sinhala', 'sk': 'slovak', 'sl': 'slovenian', 'so': 'somali', 'es': 'spanish', 'su': 'sundanese', 'sw': 'swahili', 'sv': 'swedish', 'tg': 'tajik', 'ta': 'tamil', 'te': 'telugu', 'th': 'thai', 'tr': 'turkish', 'uk': 'ukrainian', 'ur': 'urdu', 'ug': 'uyghur', 'uz': 'uzbek', 'vi': 'vietnamese', 'cy': 'welsh', 'xh': 'xhosa', 'yi': 'yiddish', 'yo': 'yoruba', 'zu': 'zulu'}\n"
     ]
    }
   ],
   "source": [
    "import googletrans\n",
    "print(googletrans.LANGUAGES)\n"
   ]
  },
  {
   "cell_type": "code",
   "execution_count": 3,
   "metadata": {
    "colab": {
     "base_uri": "https://localhost:8080/"
    },
    "executionInfo": {
     "elapsed": 1276,
     "status": "ok",
     "timestamp": 1676996833320,
     "user": {
      "displayName": "Plabon paul.",
      "userId": "12792684054671737244"
     },
     "user_tz": -360
    },
    "id": "N5aowYZXry6O",
    "outputId": "e1b43998-626f-4142-af46-bb824678bed9"
   },
   "outputs": [
    {
     "name": "stdout",
     "output_type": "stream",
     "text": [
      "hello.\n",
      "こんにちは。\n",
      "The truth is my light\n"
     ]
    }
   ],
   "source": [
    "from googletrans import Translator\n",
    "\n",
    "translator = Translator()\n",
    "\n",
    "translated_text = translator.translate('안녕하세요.')\n",
    "print(translated_text.text)\n",
    "\n",
    "translated_text = translator.translate('안녕하세요.', dest='ja')\n",
    "print(translated_text.text)\n",
    "\n",
    "translated_text = translator.translate('veritas lux mea', src='la')\n",
    "print(translated_text.text)"
   ]
  },
  {
   "cell_type": "code",
   "execution_count": 10,
   "metadata": {
    "colab": {
     "base_uri": "https://localhost:8080/",
     "height": 36
    },
    "executionInfo": {
     "elapsed": 26644,
     "status": "ok",
     "timestamp": 1676998378141,
     "user": {
      "displayName": "Plabon paul.",
      "userId": "12792684054671737244"
     },
     "user_tz": -360
    },
    "id": "Gr5-zhk_tNcq",
    "outputId": "c006a4c7-c270-4def-a3bf-17afd884fcba"
   },
   "outputs": [
    {
     "data": {
      "application/vnd.google.colaboratory.intrinsic+json": {
       "type": "string"
      },
      "text/plain": [
       "'আমি অপমানিত বোধ করিনি'"
      ]
     },
     "execution_count": 10,
     "metadata": {},
     "output_type": "execute_result"
    }
   ],
   "source": [
    "def bn_translate(data):\n",
    "  from googletrans import Translator\n",
    "  translator = Translator()\n",
    "  bn_data = [translator.translate(i , dest='bengali').text for i in data[:500]]\n",
    "  \n",
    "  return bn_data\n",
    "\n",
    "tweets = bn_translate(tweets)\n",
    "tweets[0]"
   ]
  },
  {
   "cell_type": "code",
   "execution_count": 11,
   "metadata": {
    "colab": {
     "base_uri": "https://localhost:8080/"
    },
    "executionInfo": {
     "elapsed": 8,
     "status": "ok",
     "timestamp": 1676998394078,
     "user": {
      "displayName": "Plabon paul.",
      "userId": "12792684054671737244"
     },
     "user_tz": -360
    },
    "id": "BDvNuHnZ5Jy5",
    "outputId": "5a3068b7-80ed-40fb-aa24-d3ea96c5d6b5"
   },
   "outputs": [
    {
     "data": {
      "text/plain": [
       "['আমি অপমানিত বোধ করিনি',\n",
       " 'আমি খুব আশাহীন বোধ থেকে এত অভিশপ্ত আশাবাদী হতে পারি শুধুমাত্র যত্নশীল এবং জেগে থাকা এমন একজনের আশেপাশে থাকা থেকে',\n",
       " 'আমি পোস্ট করার জন্য একটি মিনিট ধরছি আমি লোভী ভুল বোধ করছি',\n",
       " 'আমি কখনও অগ্নিকুণ্ড সম্পর্কে নস্টালজিক বোধ করছি আমি জানব যে এটি এখনও সম্পত্তিতে রয়েছে',\n",
       " 'আমি অস্থির বোধ করছি',\n",
       " 'আমি ইদানীং কিছুটা বোঝা বোধ করছিলাম কেন তা ছিল তা নিশ্চিত নই',\n",
       " 'আমি নিচ্ছি বা মিলিগ্রাম বা বার প্রস্তাবিত পরিমাণ এবং আমি অনেক দ্রুত ঘুমিয়ে পড়েছি কিন্তু আমিও খুব মজার বোধ করছি',\n",
       " 'আমি একজন কিশোর হিসাবে জীবন সম্পর্কে বিভ্রান্ত বোধ করি বা একজন বছরের বৃদ্ধের মতো হতাশ',\n",
       " 'আমি বছরের পর বছর ধরে পেট্রোনাসের সাথে আছি আমি মনে করি পেট্রোনাস ভাল পারফর্ম করেছে এবং প্রচুর লাভ করেছে',\n",
       " 'আমিও রোমান্টিক বোধ করি',\n",
       " 'আমি অনুভব করছি যে আমি যে কষ্ট দেখছি তা আমাকে কিছু করতে হবে',\n",
       " 'আমি অনুভব করি যে দৌড়ানো একটি ঐশ্বরিক অভিজ্ঞতা এবং আমি কিছু ধরণের আধ্যাত্মিক মুখোমুখি হওয়ার আশা করতে পারি',\n",
       " 'আমি মনে করি এটি অসন্তুষ্ট বোধ করার জন্য বছরের সবচেয়ে সহজ সময়',\n",
       " 'আমি কম শক্তি অনুভব করছি আমি শুধু তৃষ্ণার্ত',\n",
       " 'সাধারণ বিষয়ের প্রতি আমার অপরিসীম সহানুভূতি আছে কিন্তু একজন সম্ভাব্য প্রোটো লেখক হিসেবে জীবনের কোণায় লেখার জন্য সময় বের করার চেষ্টা করছেন এবং কোনো এজেন্টের কোনো চিহ্ন ছাড়াই প্রকাশনা চুক্তির কারণে এটি কিছুটা মূল্যবান মনে হয়',\n",
       " 'আমি আশ্বস্ত বোধ করি না উদ্বেগ প্রতিটি দিকে রয়েছে',\n",
       " 'আমি সত্যিই যে বিব্রত বোধ না',\n",
       " 'আমি বেশিরভাগ সময় বেশ করুণ বোধ করি',\n",
       " 'আমি ছোটবেলায় যে পুতুলগুলি পেয়েছি সেগুলি সম্পর্কে আমি আবেগপ্রবণ বোধ করতে শুরু করি এবং তাই ষাটের দশক থেকে ভিনটেজ বারবি পুতুলের সংগ্রহ শুরু করি',\n",
       " 'আমি এখন আপোষহীন বোধ করি এবং প্রতিটি ইউনিটের কাজের মূল্য সম্পর্কে সন্দিহান বোধ করি',\n",
       " 'কেউ কিছু না করে বা কিছু না বলে আমি বিরক্ত এবং প্রত্যাখ্যাত বোধ করি',\n",
       " 'আমি সম্পূর্ণভাবে অভিভূত বোধ করছি আমার কাছে দুটি কৌশল রয়েছে যা আমাকে গ্রাউন্ডেড বোধ করতে সাহায্য করে আমার হৃদয় আমার জার্নালে ঈশ্বরের কাছে একটি চিঠির আকারে ঢেলে দেয় এবং তারপর পাঁচটি জিনিসের একটি তালিকা দিয়ে শেষ করে যার জন্য আমি সবচেয়ে কৃতজ্ঞ',\n",
       " 'আমি অনুভব করি যে সে আনন্দিত এবং আনন্দিত ছিল',\n",
       " 'আমি আপনার সমর্থন এবং উত্সাহ দিয়ে চাই লাইফলাইনকে সাহায্য করতে পেরেছি একটি দুর্দান্ত অনুভূতি এবং আপনি আমাকে সাহায্য করতে পেরে আমি খুব খুশি',\n",
       " 'আমি ইতিমধ্যে মনে হয় আমি যদিও fucked কারণ আমি সাধারণত সকালে সব খাই না',\n",
       " 'আমি এখনও আমাকে ভালবাসি এবং তার জন্য শুভকামনা জানাই এবং বিএম আমাদের জীবনে যে প্রভাব ফেলে তা আমি আর সহ্য করতে পারি না এবং এটি আমাকে একজন তিক্ত রাগান্বিত ব্যক্তিতে পরিণত করেছে যে সবসময় তার আশেপাশের লোকদের প্রতি বিশেষভাবে সদয় হয় না তিনি মানসিক চাপ অনুভব করছেন',\n",
       " 'আমি অন্য কারোর রান্নাঘরে এমনভাবে বাধা বোধ করি যে আমি অন্য কারো ছবি আঁকছি',\n",
       " 'আমি অভিভূত হয়ে পরাজিত বোধ করি',\n",
       " 'আমি কিছুটা আতঙ্কিত বোধ করছি যে তার মনে হচ্ছে তাকে তার শরীরের পরিমাপ ইত্যাদি প্রশস্ত এবং দৈর্ঘ্যে ব্যাখ্যা করতে হবে',\n",
       " 'আমি আরও উন্নত মৃত মুরগি বা শোকার্ত শিশু অনুভব করি',\n",
       " 'আমি একটি নিখুঁতভাবে লাগানো পেন্সিল স্কার্টে মার্জিত বোধ করার জন্য চঞ্চল হয়ে উঠি',\n",
       " 'আমার মনে আছে কয়েকদিন ধরে খুব কষ্ট বোধ করছিলাম',\n",
       " 'আমি গত কয়েকদিন ধরে শুনেছি এবং পড়া দেখেছি আমি কয়েকটি কোম্পানির দ্বারা প্রভাবিত বোধ করছি',\n",
       " 'আমি হতাশ বোধ করে পাহাড়ে আরোহণ করলাম যে এই কোর্সের জন্য আইডিটি সম্পূর্ণভাবে ভুল ছিল এবং এমন একটি ফ্যাক্টর যা আমাকে কখনও বাধা দেয়নি দিনে এমন একটি গর্ত তৈরি করেছিল',\n",
       " 'আমি একটি বাস্তব জীবনের দৃশ্যকল্প কল্পনা করতে পারি না যেখানে আমি সম্পূর্ণরূপে গ্রহণযোগ্য এবং নিরাপদ বোধ করার জন্য কারো সাথে মানসিকভাবে যথেষ্ট সংযুক্ত থাকব যেখানে ঘনিষ্ঠ এবং দীর্ঘস্থায়ী শারীরিক সম্পর্ক থাকা আমার পক্ষে নৈতিকভাবে গ্রহণযোগ্য এবং যেখানে পরবর্তীকালে যৌনতা প্রত্যাশিত হবে না',\n",
       " 'আমি নিশ্চিত নই যে কিছু হলে কি আমাকে সন্তুষ্ট বোধ করবে',\n",
       " 'আমি সৃজনশীল হওয়ার প্রয়োজন অনুভব করছি',\n",
       " 'তবে আমি চাই আপনি জানুন যে কেউ যদি আপনাকে কম অনুভব করে তবে আপনার দুর্দান্ত স্বভাবে তাদের থেকে দূরে সরে যান',\n",
       " 'আমি একজন বয়স্ক ভদ্রলোকের কাছে উপহার চাওয়ার জন্য কিছুটা অভদ্র বোধ করছি কারণ আমি কিছুটা লোভী বোধ করি কিন্তু ক্রিসমাস সম্পর্কে হালকা লোভ না হলে কি?',\n",
       " 'আমার তোমাকে দরকার আমার কাউকে দরকার আমার সুরক্ষিত থাকতে হবে এবং নিরাপদ বোধ করতে হবে আমি এখন ছোট আমি এখন কোন শব্দ নেই',\n",
       " 'আমি আপনার সাথে আমার দৈনন্দিন জীবনের গল্প ভ্রমণের রোমাঞ্চকর অনুপ্রেরণা এবং হস্তনির্মিত সৃষ্টিগুলি শেয়ার করার পরিকল্পনা করছি এবং আশা করি আপনিও অনুপ্রাণিত বোধ করবেন',\n",
       " 'আমার ক্রিসমাস ট্রি আছে',\n",
       " 'আমি নিজে থেকে একটু কনসিলার দিয়ে একবার এটি পরিধান করেছি এবং যত দিন আমি সাহসী বোধ করছি কিন্তু ফ্যাকাশে হতে চাই না তখন এটি নিখুঁত',\n",
       " 'আমি খুব দৃঢ়ভাবে আবেগপ্রবণ বোধ করি যখন কিছু ঝাঁকুনি আমাদের খোঁচা দেওয়ার এবং মজা করার সিদ্ধান্ত নেয়',\n",
       " 'আমি খুব নিরুৎসাহিত বোধ করছিলাম আমরা ইতিমধ্যেই এই বছর আমাদের গরু পেতে পলকে অর্থ প্রদানের জন্য পিটারকে ছিনতাই করছি কিন্তু এইভাবে গরু না পাওয়ার সামর্থ্য আমাদের নেই',\n",
       " 'আমি নতুন কিছু ভিন্ন কিছু প্রয়োজন থেকে তালিকাহীন বোধ করছিলাম',\n",
       " 'আমি আমার বিশেষ মন হারিয়ে ফেলেছি কিন্তু চিন্তা করবেন না আমি এখনও সুস্থ আছি আমি শুধু চেয়েছিলাম যে আপনি এই বইটি পড়ার সময় আমি যা অনুভব করেছি তা অনুভব করুন আমি জানি না কতবার বলা হয়েছিল যে স্যাম বিশেষ ছিল তবে আমি আপনাকে গ্যারান্টি দিতে পারি যে এটি তার চেয়ে অনেক বেশি ছিল আমি সেই অনুচ্ছেদে যা ব্যবহার করেছি তা কি আমি আপনাকে বলেছিলাম যে সে বিশেষ',\n",
       " 'আমার এই প্রথম বাড়িতে আমি এখানে গৃহীত হতে চাই সেই দুঃখের অনুভূতিকে আমি ছেড়ে দিতে পারি না',\n",
       " 'ডেনমার্কে নৌকা ভ্রমণে',\n",
       " 'আমি ঠান্ডা অনুভব করা বন্ধ করে দিয়ে গরম অনুভব করতে লাগলাম',\n",
       " 'এটা ঠিক নিখুঁত নিশ্চিত করার জন্য আমার ময়দা অনুভব করতে হবে',\n",
       " 'সেই সকালে আমি নিজেকে কিছুটা নিরুৎসাহিত বোধ করেছি',\n",
       " 'আমি স্বার্থপর এবং নষ্ট বোধ',\n",
       " 'আমি কিছুটা বিচলিত হয়ে পড়েছিলাম কারণ আমি অনিশ্চিত বোধ করে লিখেছিলাম যে আমি গল্পটি নিয়ে অনিচ্ছাকৃত কোথাও যেতে পারি',\n",
       " 'আমি ব্যাগ কাফ দেখ কে কাঁদছে এখন জ্যাসিন্থে ভালো লাগছে দেখতে সুন্দর রূপাল স্কিনস কাঁচি বোন ভ্যালেন্টাইন দ্য সান ফেড আপ কাইল কে তোমার ড্যাডি গার্লিং জাগিয়েছে নির্দয় ইউ',\n",
       " 'আমি মনে করি আপনি মূলত বৈজ্ঞানিক কল্পকাহিনীর জগতে একজন নকলের মতো জানেন',\n",
       " 'আমি আমার বাবার ছাদের নীচে বাস করা ঘৃণা করি কারণ এটি তাকে আমার কাছে একটি গাধা হওয়ার অজুহাত দেয় কারণ তিনি আমাকে এখানে থাকার জন্য সরবরাহ করছেন আমি মনে করি যে সে অনুভব করে যে তার আমাকে যতটা সম্ভব অনাকাঙ্ক্ষিত বোধ করা দরকার তাই অসুস্থ ছুটিতে',\n",
       " 'আমি তার সমর্থনে এবং নতুন পরিস্থিতিতে তার স্বাচ্ছন্দ্যে আনন্দদায়কভাবে বিস্মিত বোধ করি',\n",
       " 'আমার এই অনুভূতি আছে যে আগামীতে যদি আমার আর জোরালো যৌন ক্রিয়াকলাপ থাকে হ্যাঁ আমি ভুল বানান করেছি যে কমিং দিন হিসাবে আমার কিছু অংশ পড়ে যেতে শুরু করবে',\n",
       " 'আমি আমার মায়ের করুণাময় উষ্ণ প্রেমময় হাসি অনুভব করি কারণ আমি নিজেকে লালন-পালন করার এবং নিরাময় করার সময় নষ্ট করি',\n",
       " 'আমি মনে করি তাদের কথাবার্তায় ভাইজান অত্যন্ত জনপ্রিয় একজন যা আমার কাছে এত কঠোর বলে মনে করার মতো ছিল না',\n",
       " 'আমি খেয়েছি আমি প্রায় জুড়ে একটি মৃদু শিহরণ অনুভব করতে পারি যেন আমি সেলুলার স্তরে নিরাময় ঘটছে অনুভব করছি',\n",
       " 'আমি মনে করি আমাদের তরুণ সুন্দর পাতলা হওয়ার জন্য চাপ দেওয়া হয়েছে এবং মেয়েদের পুনর্জীবন বা বাট ইমপ্লান্ট করার প্রবণতার উপর নির্ভর করে',\n",
       " 'আমি তাদের প্রতি সপ্তাহে বেশ কয়েকবার হ্যালুসিনেশনের কারণে মানুষ এবং চিত্রের শব্দ এবং কম্পনের দ্বারা নির্যাতিত বোধ করতে শুরু করেছি',\n",
       " 'আমি এখন প্রায় সপ্তাহের ডিটক্স শেষ করেছি এবং আমি আশ্চর্যজনক বোধ করছি',\n",
       " 'আমি স্বার্থপর বোধ করি যখন আমি আমার আগের পোস্টগুলি পড়েছিলাম যে আমি কখনই অন্যদের জন্য প্রার্থনা করিনি কীভাবে আমি কখনই ভাবিনি যে সেখানে অন্য কেউ থাকতে পারে যারা আমার নিজের প্রার্থনার উত্তর দেওয়ার যোগ্য',\n",
       " 'আমি জানি যখন একজন রাগান্বিত শিশু হিংস্র হয়ে ওঠে তখন বাবা-মা কী ব্যথা অনুভব করেন',\n",
       " 'আমি এই অনুমিত অনুভূতির উপর আবেগের রোলার কোস্টারে ছিলাম যে কিছু অপ্রীতিকর আসছে',\n",
       " 'আমি মনে করি আমার নিজের সত্যকে শেয়ার করা দরকার আমি ইদানীং খুব বিশ্বস্ত বোধ করছি না আমি বিশ্বাসের চেয়ে বেশি সন্দেহ এবং অনিশ্চয়তায় ছিলাম',\n",
       " 'আমি সাহসী বোধ করছিলাম যখন আমি এটি কিনেছিলাম এবং পরিষ্কারভাবে যখন আমি আমার মেকআপ করছিলাম',\n",
       " 'আমি দুঃখী বোধ করছি কিন্তু সি আমি পৃথিবীর সবচেয়ে গর্বিত মা',\n",
       " 'আমি মনে করি যে আমার পরিবার আমাদের ভালোবাসে যাই হোক না কেন কিন্তু অন্য যে কারো আশেপাশে মিশেল ব্যালিস্টিক হয়ে গেলে আমি বিব্রত বোধ করি',\n",
       " 'আমি অগত্যা মনে করি না যে সমস্ত গল্পে বোমা এবং যৌনতা প্রয়োজনীয় কিন্তু আমি যখন সেগুলি প্রিন্ট জার্নালে দেখি তখন আমি আশ্বস্ত বোধ করি',\n",
       " 'আমি অনুভব করতে পারি যে আমার ডিম্বাশয় আমার সাথে কথা বলে ব্যথা করছে কারণ আমি এটি রাখতে চাই',\n",
       " 'আমি খুব বেশি ক্রিস করতে পছন্দ করিনি এবং আমি বেশিরভাগই গুরুত্বহীন জিনিসের অনেকগুলি ছবি তুলেছি',\n",
       " 'আমি বইটি দেখে ক্লান্ত এবং এটি এখান থেকে বের করার জন্য প্রস্তুত এবং জানতে পেরেছি যে আমাকে অনুপযুক্ত ছবি দেওয়া হয়েছে এবং তারপরে ফলাফলের জন্য দোষী বোধ করা ভাল হয়নি',\n",
       " 'আমি সফলভাবে একটি mxm ক্যানভাস প্রসারিত করতে পেরেছি আমি মনে করি যে এটি আমার জন্য একটি অর্জন এবং আমার অর্থ এবং সময়ের একটি সার্থক ব্যবহার ছিল আমি ভবিষ্যতের সংক্ষিপ্তসারের জন্য ক্যানভাস ব্যবহার করব',\n",
       " 'আমি মনে করি অনুভূতিগুলি আমাদের কাছে সবচেয়ে গুরুত্বপূর্ণ জিনিসগুলির মধ্যে একটি',\n",
       " 'আমি এই তরুণ প্রতিভাবান সম্পূর্ণরূপে জীবিত সুন্দরী মেয়ে মহিলার উপর প্রভাব ফেলতে পেরে সম্পূর্ণরূপে সম্মানিত বোধ করছি',\n",
       " 'আমি রাগান্বিত এবং জ্বলন্ত বোধ করি',\n",
       " 'আমি আবর্জনার একটি করুণ টুকরা মত অনুভব করছি',\n",
       " 'আমি মনে করি আমার একটি তালিকা তৈরি করা দরকার যাতে আমি কিছু মিস না করি এই চিন্তায় লীন আতঙ্কিত হবে',\n",
       " 'আমি ড্যানিকাকে স্কুলে নিয়ে গিয়েছিলাম আমি একটু তাড়াহুড়ো বোধ করছিলাম এবং আমি কোণে ঘুরতে গিয়ে আমাকে অভিবাদন জানিয়েছিলাম',\n",
       " 'আমার মনে আছে শুটারের সাথে খুব ক্ষিপ্ত বোধ করছিলাম',\n",
       " 'আমি অনেক কিছু শিখেছি বলে আমি খুব খুশি এবং উত্তেজিত বোধ করছি',\n",
       " 'আমি অনুভব করি যে শোতে এবং শো ঘোড়াগুলির চারপাশে লোকেরা বিশ্বাস করে এবং স্বাচ্ছন্দ্য বোধ করে কারণ বেশিরভাগ শো ঘোড়াগুলি নিরাপদ এবং শান্ত এবং প্রায়শই পরিচালনা করা হয়',\n",
       " 'আমার কাছে মাত্র কয়েকটি জিনিস তৈরি করা বাকি আছে এবং ডিসেম্বরের শুরুতে আমি শেষ হয়ে গেছি এবং স্মাগ অনুভব করছি',\n",
       " 'আমি চিন্তা করি আপনি আমাকে কীভাবে অনুভব করতে পারেন এবং বুঝতে পারেন যে সবকিছু ঠিক হয়ে যাবে',\n",
       " 'আমি সেই সময়গুলিতে এত মূল্যহীন বোধ করি যে আমি কাজ খুঁজে পেতে সংগ্রাম করছিলাম',\n",
       " 'আমি অন্ধকারে আমার বিছানায় শুয়ে থাকতে পারব এবং অন্তত কিছুক্ষণের জন্য আতঙ্কিত বোধ করব না',\n",
       " 'আমি বিমানবন্দরে মায়ের সাথে দেখা করতে এবং আমার চারপাশে তার সবসময় সহায়ক অস্ত্র অনুভব করতে প্রস্তুত ছিলাম',\n",
       " 'আমি আজ তিক্ত বোধ করছি সারা দিন আমার মেজাজ অদ্ভুত ছিল তাই আমি অনুমান করি এটিই',\n",
       " 'যখন আমার মামা ভাই একটি গাড়ি দুর্ঘটনায় জড়িত থাকার পরে মারা যান তখন তিনি আমাকে একটি উপহার এনেছিলেন কারণ আমি উড়ন্ত রঙের সাথে আমার ফর্ম ফাইভ পরীক্ষায় উত্তীর্ণ হয়েছিলাম',\n",
       " 'আমি এমন শত্রুতা ছেড়ে দিচ্ছি যা আমার প্রতি অন্যায় করেছে বলে আমি মনে করি',\n",
       " 'আমি কুকুরের সাথে কথা বলি কারণ আমি মনে করি তারা শব্দ বুঝতে পারে না কিন্তু তারা আবেগ পড়তে পারে এবং কীভাবে সমর্থন করতে হয় তা জানে আমি সিদ্ধান্ত নিয়েছিলাম যে আমার বাড়িতে যাওয়া উচিত',\n",
       " 'আমার মনে হচ্ছে বিষ্ঠা কাগজের নোংরা টুকরোটি ফেলে দিই',\n",
       " 'আমার জীবন যে ভুলের মধ্যে পরিণত হচ্ছে তার সাধারণ কমেডিতে আমি খুব মজা করতে শুরু করেছি',\n",
       " 'আমি প্রতিটি শরীরকে সুন্দর খুঁজে পাই এবং শুধুমাত্র মানুষ তাদের শরীরে অত্যাবশ্যক বোধ করতে চাই',\n",
       " 'আমি শুনেছি যে মালিকরা তাদের অ্যাসোসিয়েশনের অ্যাটর্নি বা সম্পত্তি ব্যবস্থাপকের দ্বারা শিকার বোধ করেন',\n",
       " 'আমি পরিবারকে বিদায় জানাই তারা সবাই কান্নাকাটি করছে এবং আমি একটি হৃদয়হীন কুত্তার মতো অনুভব করছি কারণ আরে আমি প্রথমবার উড়তে পেরে বেশ উত্তেজিত এবং আপনি অন্য দেশে এক বছর কাটাতেও জানেন',\n",
       " 'আমি আমাকে বাচ্চাকে চিৎকার করতে দিব না কারণ আমি অনুভব করি যে তাকে এবং লিলিকে ভালবাসলে সে ছোটবেলায় এমন সুযোগ হতে চলেছে যা কেবলমাত্র সেই অল্প কয়েক মাস স্থায়ী হয়েছিল',\n",
       " 'আমি আলবা আমি ভাল বোধ করছি এবং আমি উপযুক্ত',\n",
       " 'আমি আবার কি করছি তা নিয়ে আমি উত্তেজিত বোধ করছি আমার মনে হচ্ছে আমার কাছে অনেক কিছু করার আছে',\n",
       " 'আমি এটাও জানি যে পিছনে ফিরে তাকাতে এবং আমি আমার কথাকে সম্মান করেছি এবং এটি শুরু থেকেই সাহায্য করে দেখতে কতটা ভালো লাগে',\n",
       " 'আমি বলতে চাচ্ছি যে উশুতে এত উচ্চ প্রযুক্তিগত দক্ষতা অর্জনের জন্য সত্যিই কঠোর পরিশ্রম করা কিছুটা লজ্জিত বোধ করে তবে একরকম অনুপ্রাণিত হয়েছিলাম যখন আমি বাচ্চাদের ক্লান্ত থাকা সত্ত্বেও মন থেকে উশু পারফরম্যান্স করতে দেখেছিলাম',\n",
       " 'আমি মনে করি যে জিনিসগুলি কিছুটা অপ্রতিরোধ্য হয়ে উঠছে এই টোনারের কয়েকটি স্প্রিট সত্যিই আমাকে শান্ত এবং প্রশান্ত করতে সাহায্য করে',\n",
       " 'আমি আশা করি আপনি বুঝতে পেরেছেন যে একজন ব্যক্তিকে নিজের সম্পর্কে বা তাদের পরিস্থিতি সম্পর্কে আরও ভাল বোধ করার জন্য কীভাবে এই সামান্য প্রচেষ্টার প্রয়োজন হয় তা আমি একজন পরিবারের সদস্য, কলেজ বা উচ্চ বিদ্যালয়ের বন্ধু একজন প্রতিবেশী বা এমনকি একজন সম্পূর্ণ অপরিচিত',\n",
       " 'আমি আজকে এতটাই উৎসবমুখর বোধ করছি যে আমি এটি শেষ করার সাথে সাথেই গাছটি তুলে ফেলতে যাচ্ছি এবং রাজ্যাভিষেকের রাস্তায় সপ্তাহের চলমান ঘটনাগুলি দেখতে পাচ্ছি',\n",
       " 'আমি গুরুতরভাবে অসুস্থ নই তা খুঁজে বের করা',\n",
       " 'আমি ক্লাসে ঠিকঠাকই ছিলাম কিন্তু দেরীতে থাকা মানসিক চাপকে সামলানো মানুষ হিসেবে ব্যর্থ বোধ করার সংমিশ্রণ এবং আমার ভয়ানক সপ্তাহের ফলে আমি লড়াই শেষ করার পরে প্রায় কাঁদতে থাকি',\n",
       " 'আমি অনুভব করি যে এটি খুব কমই কোনো সার্থক কারণকে অগ্রসর করে এবং আমি সর্বদা অনলাইনে এমন কিছু পোস্ট না করার নিয়মে লেগে থাকি যা আমি কারো মুখে বলার জন্য প্রস্তুত হব না',\n",
       " 'আমি সব দরকারী বোধ করছি',\n",
       " 'আমি অনুভব করি যে আপনার মধ্যে কারো কারো ব্যথা আছে এবং আপনি গোষ্ঠী বা ধারণা যা ব্যথা সৃষ্টি করছে সে সম্পর্কে উত্সাহী হওয়ার কল্পনা করতে পারবেন না',\n",
       " 'আমি কুৎসিত বোধ করি আমি একটি সুন্দর পোষাকের চেয়ে র্যাটি জিন্স এবং একটি সোয়েটশার্ট পরতে বেশি ঝুঁকেছি যদিও আমি এখনও আমার আত্মসম্মান বাড়াতে আমার বাড়ির চারপাশে একজোড়া হিল পরতে পারি তবে আমি অবশ্যই একটি নতুন জোড়া কিনতে বিরক্ত করব না',\n",
       " 'আমি এখনও ঘরের অসুস্থ বোধ করছি না তাই আমি এই বিষয়ে ঠিক বোধ করছি',\n",
       " 'আমি নাচ আমার সুন্দর বোধ করা উচিত',\n",
       " 'আমি প্রতিদিন সকালে আগে ব্যায়াম করি এবং এটির জন্য দুর্দান্ত বোধ করি',\n",
       " 'আমি এই সব অনুভব করি শুধু তার চোখ থেকে তার স্পর্শ বা তার কথা থেকে নয়, তার চোখ থেকে আমি জানি যে আমি নিশ্চিতভাবে এই ভালবাসা ফিরিয়ে দিতে পারি এবং জানি যে এটি বৃথা যাবে না',\n",
       " 'আমি শুক্রবার সকাল পর্যন্ত কল্পিত বোধ করছিলাম যখন আমি কর্মক্ষেত্রে এই ভয়ঙ্কর বাধা পেতে শুরু করি',\n",
       " 'তাদের ভ্রাতৃত্ব ভাগ করে নেওয়ার জন্য তাদের বন্ধু বলতে পেরে আমি সম্মানিত বোধ করি',\n",
       " 'শহরের ওপরের আকাশে ঘন কালো বৃষ্টির মেঘ ঢুকে পড়লে আমি আতঙ্কিত হতে শুরু করেছিলাম',\n",
       " 'আমি তাকে বলেছিলাম যে আমার এত ভয় লাগছে কারণ আমি অনিরাপদ বোধ করছি',\n",
       " 'আমি এখনও টিএসএ দ্বারা ঝাঁকুনি দেওয়ার মতো অনুভব করিনি তাই আমি মধ্যাহ্নভোজের জন্য সৃজনশীল ক্রসেন্টস-এর পাশে টেনে নিয়েছিলাম',\n",
       " 'আমি গ্রুপে যাই আমি খুব বেশি কথা বলার দ্বারা বা সত্যিই চুপচাপ হয়ে সত্যিই বিশ্রী এবং অতিরিক্ত ক্ষতিপূরণ বোধ করি',\n",
       " 'আমি শেষ পর্যন্ত সেই সঙ্গীর সাথে দেখা করতে খুব উত্তেজিত যে সঙ্গী আমার সাথে সবসময় থাকবে বিশেষ করে যখন আমি একা থাকি খুব একা সেই সঙ্গী যে আমাকে কখনও হতাশ করবে না সেই সঙ্গী যে আমার চারপাশে তার বাহু রাখবে এবং আমাকে ভালবাসার অনুভূতি দেবে',\n",
       " 'আমি মনে করি তারা আমার ব্লগ img src http s এ বেশ নিরাপদ',\n",
       " 'আমি এটি সম্পন্ন করার জন্য বেশ আগ্রহী বোধ করছি কারণ এটি কুইল্ট করার জন্য আমার একটি মজার পরিকল্পনা আছে',\n",
       " 'আমি শৃঙ্গাকার অনুভব করছি তাই আমি তাকে জিজ্ঞাসা করি যে বাড়ি যেতে দিন',\n",
       " 'আমি মনে করি যদি একটি কবিতা আমার উপর চাপ না দেয় তবে আমি অনুভব করার অর্থে অস্বস্তি বোধ করি না যতটা আমি বুঝতে পারি তার চেয়ে বেশি আমি বুঝতে পারি তার চেয়ে বেশি আমি প্রেমে থাকতে পারি',\n",
       " 'আমারও মনে হয় যেন আমি এক বিচিত্র দেশে একজন অপরিচিত এবং আমি আমার ছেলেকে এমন জায়গায় বড় করছি যেটা তার বাবার পৈতৃক বাড়ি নয়',\n",
       " 'আমি ঝরনার কাছে চলে গেলাম প্রশ্ন করে আমি কি অনুভব করি যে সে এত সুন্দর একটি চমত্কার শরীর তাই আত্মবিশ্বাসী তার চলাফেরা অনায়াসে করুণাময়',\n",
       " 'আমি উদ্যমী এবং বাউন্সি বোধ করি আমি আমার বাচ্চাদের সাথে বাইরে দৌড়াতে জিমে যেতে বা দীর্ঘ হাঁটার জন্য প্র্যাম নিতে গিয়ে প্রায়শই আমি একদিনে তিনটিই করি',\n",
       " 'আমি এখনও শক্তিশালী বোধ করছিলাম',\n",
       " 'আমি কান্নায় ফেটে পড়িনি বা অনুভূতি বা চিন্তার অন্য কোনো ধ্বংসাত্মক মুক্তি পাইনি কারণ আমি জানতাম যে ধনীকেও তার নিজের জায়গার মধ্য দিয়ে যেতে হবে আমাকে কেবল তার উপর ডাম্প না করেই',\n",
       " 'আমি আজ সকালে একটি কুমড়া মশলা লাটে পেতে চেয়েছিলাম কিন্তু এটি গরম ছিল এবং শেষ যে জিনিসটি আমি চেয়েছিলাম তা হল একটি গরম কফি হয়ত আমি একটু তেতো অনুভব করছি',\n",
       " 'আমি মনে করি তিনি খারাপ বোধ করছেন কারণ তিনি গত কয়েক মাস ধরে তার ব্যথা নিয়ে কিছুটা সন্দিহান ছিলেন অতীতে তার একটি হাইপারকন্ড্রিয়া এবং অতিরঞ্জনের অভ্যাস ছিল যদিও সে কখনই তাকে খোলাখুলিভাবে এই বিষয়ে প্রশ্ন করেনি',\n",
       " 'আমি আশ্বস্ত বোধ করার জন্য বিছানার কোণে আঁকড়ে থাকি',\n",
       " 'আমিও মনে করি যে আমি আমার জীবন এবং এতে আশ্চর্যজনক জিনিসগুলির জন্য কৃতজ্ঞ না হয়ে স্বার্থপর হয়ে উঠছি',\n",
       " 'আমি এটাকে ঈশ্বর বলেছিলাম কারণ আমি একটি বইয়ে ঈশ্বর দেখেছি এবং ভেবেছিলাম যে ঈশ্বরই ছিল এমন অনুভূতির সঠিক নাম যা সম্পূর্ণরূপে নিশ্চিত করা হয়েছে এবং প্রশ্ন ছাড়াই গৃহীত হয়েছে',\n",
       " 'আমি জানি না কেন হয়তো অফিসের অন্যান্য মেয়েদের সুন্দর ছোট চুল ছিল বা আমি শুধু বিদ্রোহী বোধ করছিলাম',\n",
       " 'আমি মোটেও দু: খিত বোধ করি না কারণ আমার পরিবার ঈদ উদযাপন করে না',\n",
       " 'আমি যদি সত্যিই উদার বোধ করি আমার গাড়ির প্রয়োজন হয় তবে আমি গাড়ি ধোয়ার জন্য যেতে পারি',\n",
       " 'আমি এখনও ঘুম বঞ্চিত বোধ করি সে প্রায় রাতের মধ্যে ঘুমাচ্ছে আমাদের দিচ্ছে',\n",
       " 'আমি এই মুহূর্তে সত্যিই হিংস্র বোধ করছি',\n",
       " 'আমি আবার ব্লগিং করছি আমি এখানে বসে আমার কুকুর এবং বিড়াল ইত্যাদি নিয়ে সন্তুষ্ট বোধ করছি এবং আমি জানি যে আমরা কত ভাগ্যবান সত্য',\n",
       " 'আমি মজা অনুভব করতে শুরু করি এবং তারপর শুক্রবার আমি কুকুরের মতো অসুস্থ হয়ে জেগে উঠি',\n",
       " 'রিপ্রেসড মেমরি থেরাপি হতে পারে এমন জাদুকরী শিকারের বিরুদ্ধে আমি আমার বাবা-মাকে রক্ষা করার প্রয়োজন অনুভব করি',\n",
       " 'এমনকি আমার জাতি এবং জাতীয়তার দ্বারা এই মহিলার সাথে যুক্ত হতে আমি বিরক্ত বোধ করি',\n",
       " 'আমি আবার তিক্তভাবে হেসেছিলাম কিন্তু আমি তিক্ত অনুভব করছিলাম না',\n",
       " 'আমি বুঝতে পারিনি সে কি অনুভব করছে তখন আমি ভেবেছিলাম যে তিনি যদি আমাদের সাথেও থাকতে পারতেন তবে আমরা প্রত্যেকেই জানতাম যে আমরা প্রথমে এটিকে যতই ঘৃণা করতাম এটি এমন একটি অভিজ্ঞতা যা আমরা চিরকাল মনে রাখব',\n",
       " 'আমি বেশ কোমল বোধ করছিলাম এবং আমি আমার সর্দি শুরুর সাথে পরতে একটি নরম সহজ চেহারা চাই',\n",
       " 'আমি তাকে বলেছিলাম যে আমি ইদানীং বিষয়গুলি সম্পর্কে কীভাবে সিদ্ধান্তহীন বোধ করছি তা ভাবার জন্য আমার কেবল সময় দরকার',\n",
       " 'আমি এখনও মনে করি যে গল্পগুলি কৃত্রিমভাবে সমাধান করা হলে এটি ধারাটির একটি ক্ষতি করে',\n",
       " 'আমি সবসময় জানি যখন আমি শৈল্পিক বোধ করি যখন আমি আমার নাম লিখি যখন আমি একটি শৈল্পিক মেজাজে থাকি তখন আমি একটি বৃত্ত আঁকতাম একটি বিন্দু নয় যত বড় বিন্দুটি তত বেশি শৈল্পিক অনুভব করি এবং যদি এটি একটি লাইনের মতো হয় স্প্যানিশ উচ্চারণ চিহ্ন আমি বিরক্ত',\n",
       " 'আমার মনে আছে যখন আমি ব্রাজিলে একটি বাসে ছিলাম যেটি একটি বড় ঝড়ের মাঝখানে পাহাড়ের পাশ দিয়ে খাড়া পাহাড়ের পাহাড়ে উঠছিল তখন ভাবছিলাম আমরা পড়ে যাব কিনা',\n",
       " 'আমি তার অপ্রেমী এবং যত্নহীন হওয়ার চিন্তার প্রতি তার ঝাপসা অনুভব করতে পারি',\n",
       " 'আমি অবশ্যই বসে আপনাকে বলতে যাচ্ছি না যে আমার ব্যক্তিগত জীবনে কী ঘটছে তবে আমি অনুভব করি যে আপনি যদি কখনও আমার জীবনে কী ঘটছে তা নিয়ে কৌতূহলী হন তবে আপনাকে কেবল অনুষ্ঠানটি দেখতে হবে',\n",
       " 'আমি দুঃখিত যে এই পোস্টে আরও হাস্যরস ছিল না কিন্তু আমি এতটা মজার অনুভব করছি না',\n",
       " 'আমি অনুভব করি যে আমি পথপ্রপাত এবং পাহাড়ে হাঁটা এবং দৌড়ানোর দুর্দান্ত জগতের দরজায় পা রেখেছি',\n",
       " 'আমি বলি আমার মনে যা আসে তা সরাসরি বলি আমি একজন ঈর্ষান্বিত মেয়ে অনুভব করি কারণ আমি অনিরাপদ বোধ করি না বরং আমি শুধু সেই ব্যক্তিকে ভালোবাসি একজন বিশ্বস্ত বন্ধুকে ভালোবাসি যাকে আমি ভালোবাসি',\n",
       " 'আমার একদিনের ছুটির পর কাজে ফিরে আসা আমার অদ্ভুত লাগছে',\n",
       " 'উদাহরণস্বরূপ এমিলি ডিকিনসনের ড্যাশ হ্যাপির দ্বারা আমি স্পষ্টভাবে প্রভাবিত হয়েছি এবং আমি সনেটে দ্রুত এনজাম্বমেন্টের অনুভূতি বাড়াতে কোলন বা সেমি কোলনের পরিবর্তে ড্যাশ ব্যবহার করি',\n",
       " 'আমি মোটা হয়ে গেছি কারণ আমার জীবনের একমাত্র জিনিস যা আমার নিয়ন্ত্রণে থাকতে পারে তা হল আমি রুটির উপর চিনাবাদামের মাখন খেতে পারি কি না যখন আমি প্রথম বিশ্বের অসম্ভব দিন থেকে বাড়ি ফিরে তৃতীয় বিশ্বের অভাবী এবং অবহেলিত নরক অনুভব করছি ছোট মেয়েরা',\n",
       " 'আমি জেনারটি রিডিম করার দাবি করতে পারি কিন্তু এটি আমাকে সম্পূর্ণরূপে হতাশ বোধ করেনি যে আমার মাথা দেয়ালের সাথে মারতে পারে।',\n",
       " 'আমি খুব দু: খিত এবং আশাহীন বোধ',\n",
       " 'আমি অনুভব করছি যে আমার ক্লাসগুলি আলোর ধারণার দ্বারা কিছুটা ভয় পেয়েছে',\n",
       " 'আমি এখনও অস্বস্তি বোধ করি কিন্তু আমার ছেলের জন্য রুটিন করার জন্য আমাকে উঠতে হবে',\n",
       " 'আমি অনুভব করছি যে আমার দৃষ্টিভঙ্গি খুব জনপ্রিয় হবে না এবং এটি ঠিক আছে',\n",
       " 'আমি এই হতবাক বিস্ময় এবং বিস্ময়ের অনুভূতি চিরকাল ধরে রাখতে চাই',\n",
       " 'যখন আমি একটি গুজব শুনলাম যে 1ষ্ঠ বর্ষের পরীক্ষার ফলাফল বেরিয়েছে তখন আমার ভয় ছিল যে আমি ব্যর্থ হতে পারি',\n",
       " 'আমি মূল্যবান বোধ করতে চাই যে আমি করি এবং প্রশংসা করি এবং জানি যারা আমাকে ভালোবাসে তারা কোথাও যায় না এমনকি সম্পর্কের প্রকৃতি পরিবর্তন হলেও',\n",
       " 'আমি জানি এমন কিছু দিন আছে যেখানে আপনি বিভ্রান্ত বোধ করেন',\n",
       " 'আমি এটিকে নিয়মিত রিলাক্সিং মিউজিকের সাথে ব্যবহার করি এবং সর্বদা পরে উত্সাহিত বোধ করি',\n",
       " 'আমি বিভ্রান্ত বোধ করছি আমি যতটা সম্ভব চোখ বন্ধ করে অনুশীলন করার প্রবণতা রাখি',\n",
       " 'আমি মনে করি এটি নিখুঁত এবং ইউটিউবে এর প্রভাব রয়েছে আমি এমনকি প্রবণতাও জানি',\n",
       " 'আমি বিশেষভাবে চেয়েছিলাম যে ট্যাঙ্গো লাজুক বোধ করছে এবং ভালো ছবি পাওয়ার জন্য তার থেকে যথেষ্ট দূরে যাওয়া কঠিন',\n",
       " 'আমি আমার বিছানায় ঘুমাতে খুব অদ্ভুত অনুভব করিনি যখন তারা দুজন তার ঘুমিয়েছিল',\n",
       " 'আমি শুধু ঠিক করতে চাই তাই আমি আজকে আগে এটা নিয়ে ভাবছিলাম এবং এখানেই সবকিছু অস্থির হয়ে যাওয়াটা আমাকে খুব অভাবী বোধ করেছে',\n",
       " 'আমি কিছু ওজন কমিয়েছি যাতে আমি একটি ছোট স্কার্টের সাথে ফিট করতে পারি যা আমি পরতে পারিনি কারণ আমি এখন পর্যন্ত এতে আত্মবিশ্বাসী বোধ করিনি',\n",
       " 'আমি শীঘ্রই আবার একটু বেশি সৃজনশীল বোধ করব এবং আমার জীবনের ব্লগে এর উপস্থিতি মিস করব বলে আশা করি',\n",
       " 'আমি বর্তমান রাষ্ট্রপতির কোন ভক্ত নই আমি একজন রক্ষণশীল এবং এটি আমাকে অবাঞ্ছিত বোধ করেছে',\n",
       " 'আমি তার উপর তার আয়াত ঢেকে দেব আরো বেশি চিন্তা এবং অদ্ভুত দম্পতি শুনতে কৌতূহল অনুভব করতে পারে না',\n",
       " 'আমি এখানে আমার জীবন নিয়ে আত্মতুষ্টি অনুভব করতে শুরু করি',\n",
       " 'আমি দুর্বল এবং একা বোধ করি',\n",
       " 'আমি অনুপ্রাণিত বোধ করছি মনে করি এবং ভাবছিলাম যে এটি পিতামাতার একটি চমৎকার উদাহরণ',\n",
       " 'আমি অনুভব করি যে আমি সর্বদা বোকা জিনিসগুলির জন্য শাস্তি পাচ্ছি এবং আমি মনে করি যে আমাকে আচরণের জন্য শাস্তি দেওয়া হচ্ছে',\n",
       " 'আমি সত্যিই অনুভব করি যে আমার জীবন এখন নিখুঁত এবং যদি এটি খুব বেশি চাওয়া না হয় তবে আমি আশা করি সবকিছু একই থাকবে',\n",
       " 'আমি সেখানে আমি কেবল সন্তুষ্ট বোধ করছি',\n",
       " 'আমি বলছি না যে সবাইকে আপনার জীবন থেকে বাদ দিন তবে আমি একাকী ধ্যান বা একা প্রকল্পে কাজ করার মধ্যে আরাম পাওয়া গুরুত্বপূর্ণ মনে করি',\n",
       " 'আমি মনে করি আমি স্রেফ বোকা নার্ভাস বোধ করছি',\n",
       " 'আমি এতে সম্মানিত বোধ করি',\n",
       " 'আমি আমার জীবনে কর্মক্ষেত্রে ঈশ্বরের কাজ অনুভব করছিলাম এবং এটি একটি আশ্চর্যজনক অনুভূতি ছিল',\n",
       " 'আমার মনে হচ্ছে আমি পাখির মতো উড়ে বেড়াচ্ছি খুব নির্লিপ্ত ভঙ্গিতে',\n",
       " 'আমাকে আমার মনের মধ্যে বারবার আমার উত্তরগুলিকে সংশোধন করতে হবে শুধু নিশ্চিত করার জন্য যে উত্তরটি যথেষ্ট উপযুক্ত বলে মনে হচ্ছে এবং যে ব্যক্তি উত্তরটি পেয়েছেন তিনি বিরক্ত বোধ করবেন না',\n",
       " 'আমার একজন বন্ধু মারা গেলে আমি দুঃখ পেয়েছিলাম এবং আমি অনুভব করেছি যে কিছু আমার কাছ থেকে অপরিবর্তনীয়ভাবে চলে গেছে',\n",
       " 'আমি মারা গিয়েছিলাম অ্যালেক্স এবং ম্যাট দেখতে না আসার জন্য অনুতপ্ত হবে',\n",
       " 'আমি মনে করি যে পরিবারকে শিক্ষিত করা এবং মামা এবং বাবাদের সমর্থন এবং শিক্ষিত করা গুরুত্বপূর্ণ',\n",
       " 'আমি নিশ্চিত এটা কারণ যখন আমি হারিয়ে যাই তখন আমার মনে হয় সবাই আমার প্রতি শত্রুতা করছে এবং আমি সেই অনুভূতিকে ঘৃণা করি',\n",
       " 'আমার মনে হয় এগুলি খুব বিরক্তিকর সেলাই তৈরি করে কারণ এগুলি খুব সহজ এবং এগুলি সম্পর্কে আমার ফ্যাব্রিক ব্যবহার ছাড়া আর কিছুই বলার নেই',\n",
       " 'আমি সবসময় আসল সুগন্ধ ব্যবহার করতে পছন্দ করি এবং আমার অন্তর্বাসের ড্রয়ারকে সুন্দরভাবে চটকদার এবং গার্ল বোধ করার জন্য হালকাভাবে সুগন্ধি দিতে চাই',\n",
       " 'আমি মনে করি আমি প্রতিভাবান যুবক, আমি প্রতিভাবান বোধ করি না তারপর আমি কাজ করতে চাই না',\n",
       " 'আমি চারপাশে এই সব জিনিস সম্পর্কে কৌতূহলী বোধ',\n",
       " 'আমি মনে করি একে অপরের জীবন থেকে আলাদা হওয়ার কারণ হল আমি তাকে এমন কিছু হতে সাহায্য করতে চাই যাতে তাকে সফল হতে এবং সফল এবং সুখী হতে পারে',\n",
       " 'আমি এখন তাদের সকলের সাথে খুব অস্বস্তিকর বোধ করি আমার ধারণা আমিই',\n",
       " 'নিরাময় ক্ষত প্রক্রিয়া চলমান হতে পারে যাই হোক না কেন সে সম্পর্কে আমি এখন পর্যন্ত বেশ নরম বোধ করছি',\n",
       " 'আমি মাঝে মাঝে আশ্চর্য হই যে আমি কি শুধু শত্রুতা এবং ভুল বোঝাবুঝি যোগ করেছি যা আমাদের মধ্যে অনেক লোকের মধ্যে রয়েছে যারা প্রথাগত যুদ্ধবিরতি দিবসের স্মরণকে আন্তরিকভাবে সমর্থন করতে নারাজ',\n",
       " 'আমি পা কয়েক মাইল জন্য shitty মনে হবে কিন্তু তারা সবসময় মত কাছাকাছি আসতে হবে',\n",
       " 'আমি জানি এটি একটি অন্যায্য প্রতিক্রিয়া কিন্তু আমি কীভাবে কেঁপে উঠি তা ব্যাখ্যা করার উপায় আমার নেই',\n",
       " 'আমি গুরুতরভাবে সমর্থনের জন্য অনেক ধন্য বোধ করছি যে আমার বাড়িতে এটি আশ্চর্যজনক',\n",
       " 'আমি নির্যাতিত এবং অপমানিত বোধ করি কিন্তু বিপদের পূর্বাভাস নার্ভাস অনুভূতিতে বেশিরভাগই ক্লান্ত',\n",
       " 'এই টাইপ করার সময় আমি এখন বেশ অস্থির বোধ করছি',\n",
       " 'আমি জানি গসম্যানস একটি পর্যটন স্থান যদি আপনি মন্টাউক এলাকায় থাকেন তবে এই অঞ্চলে বিরল দর্শনার্থীরা বন্দরে যাওয়ার জন্য সেখানে যেতে চায় কাঠের স্তূপের বিপরীতে জলে থাকা সীগলদের মৃদু কাউইং অনুভব করে এবং আরামদায়ক বাতাস আসছে। জল',\n",
       " 'আমাকে স্বীকার করতেই হবে এই হাস্যকর ই-কার্ডগুলিকে গুরুত্ব সহকারে ঠিক কীভাবে আমি অনুভব করি যে আমি এত চাপে আছি যে কোনও মুহূর্তে আমি হাই শুরু করতে পারি',\n",
       " 'আমি গত বছর লিখেছিলাম যখন আমি স্বাভাবিকের চেয়ে বেশি নিস্তেজ এবং অস্পষ্ট বোধ করছিলাম',\n",
       " 'আইডি নিজেকে গিয়ারে লাথি দেয় কিন্তু আমি কোন অনুপ্রেরণা ছাড়াই বিরক্ত বোধ করি',\n",
       " 'আমি একটি শিশু হিসাবে নিষ্পাপ অনুভূতি বোধ একটি চিত্রিত',\n",
       " 'আমি অনুভব করে সন্তুষ্টি পেয়েছি যে আমি আর লুটেরা চালিত ভোগবাদকে সমর্থন করছি না বা অবদান রাখছি না যা আমেরিকার বাইরে একটি হাঁটা মৃতদেহ তৈরি করেছে আমি যখন ছোট ছিলাম তখন আমি খুব সম্মানিত',\n",
       " 'আমি বিরক্ত বোধ করতে শুরু করব',\n",
       " 'আমি আমার ছুটি কাটাব আমার উপর কোন বাধ্যবাধকতা নেই কোন মাথাব্যথা নেই কোন অনুভূতি নেই যে আমি একই সাথে তিনটি জায়গায় ইমোশনাল ব্ল্যাকমেইল করা হচ্ছে',\n",
       " 'আমি অনুভব করি যে হারপিস আসছে আমি এই মুহুর্তে খুব অবাক হব যদি আমি বুধবার ক্লিনিকে আমার চেকআপের পরে আবার এটি বের করি',\n",
       " 'আমি আমার জীবনের প্রতিদিনের মত খুব চোদা অনুভব করি',\n",
       " 'ক্লাসের প্রতিটি শিশুকে তারা মূল্যবান বলে মনে করার চেষ্টা করার জন্য আমি সারা বছর সত্যিই কঠোর পরিশ্রম করেছি',\n",
       " 'আমি দেরী হিসাবে আমার কথায় হতাশ বোধ করছি',\n",
       " 'আমি তখন মনে করিনি যে আমি দুশ্চিন্তা করছিলাম কিন্তু পিছনের দিকে তাকালে সে কেন ভাববে না যে আমি তাকে ঝেড়ে ফেলার চেষ্টা করছিলাম',\n",
       " 'আমি এখনও নিজেকে দ্বিতীয় অনুমান করি এবং এখনও নির্দিষ্ট সিদ্ধান্ত নেওয়ার জন্য একটি ভয়ানক সময় আছে তবে কিছু সত্য আছে যা আমি নিজের সম্পর্কে জানি এবং আমি সেই সত্যগুলি দ্বারা আশ্বস্ত বোধ করি',\n",
       " 'আমি ডিম বেনেডিক্টের মত মনে করি না আমার সমান সুস্বাদু কিছু থাকবে',\n",
       " 'আমি আমার পথ অনুভব করছি এবং নিজেকে বিশ্বাস করছি',\n",
       " 'আমি আমার প্রিয় বিনোদন বিচ বুমিনের সমস্ত সারাংশ উপাদান দ্বারা অনুপ্রাণিত বোধ করছি',\n",
       " 'আমি অনুভব করতে পারি যে সে হাসল আমি তোমাকে আরও বেশি সুন্দর ভালোবাসি',\n",
       " 'আমি এখানে আমস্টারডামে বাড়ি বলতে কী বোঝাতে পারে তা আমি সংজ্ঞায়িত করতে এবং আবিষ্কার করতে থাকি যখনই আমি ফাঁকা অসুস্থতার যন্ত্রণা অনুভব করি এটি আমেরিকান শহরের জীবনের সাংস্কৃতিক মানসিকতার অনুপস্থিত যা আমস্টারডামের সাংস্কৃতিক মানসিকতার থেকে অনেকটাই আলাদা।',\n",
       " 'আমি একটি আর্কেড তৈরি করি আমার একটি খুব সহজ উদ্দেশ্য আছে এবং তা হল এটিকে শারীরিকভাবে মানসিকভাবে ব্যবহারিকভাবে এবং একেবারে স্বাচ্ছন্দ্য বোধ করার চেষ্টা করা',\n",
       " 'আমি বলতে পারি না যে আমি সব সহানুভূতিশীল বোধ করি',\n",
       " 'আমি উদগ্রীব বোধ করছিলাম এবং লন্ডনের চোখের অশ্বচালনা করার জন্য টিউবের দিকে ঝাপিয়ে পড়লাম',\n",
       " 'আমি অনলাইনে যাই এবং দেখি একজন বন্ধু অন্য একজনের সাথে কথা বলছে এবং আমার সাথে কথা বলছে না',\n",
       " 'আপনি যদি কখনো আমার কোনো ব্লগে আসেন এবং বিরক্ত বোধ করেন তাহলে দয়া করে এখানে আবার থামবেন না',\n",
       " 'আমি মনে করি এটা এতই অদ্ভুত যে আমার একবার ক্যান্সার হয়েছিল',\n",
       " 'আমি নিরাপদ এবং ভাল বোধ করতে চাই এবং সম্ভবত একটি ছোট সুযোগ আছে যে আমি আনন্দ অনুভব করতে পারি এবং আমার স্বপ্নগুলি সত্য হতে পারে',\n",
       " 'আমি পাগল বোধ করছি',\n",
       " 'আমি এটাও বিস্ময়কর বলে মনে করি যে এই বিশেষ প্রশাসক আমার ছাত্রদের পড়ার জন্য আমার দক্ষতার প্রশংসা করার জন্য আমাকে আলাদা করার পরে যে তিনি মনে করেন যে এসএসআর সময় ক্লাস সময়ের একটি ফলপ্রসূ ব্যবহার নয়',\n",
       " 'আমি এমন লোকেদের সাথে বন্ধুত্ব করার মাধ্যমে এটি পূরণ করার চেষ্টা করেছি যে আমি জানতাম যে শুধুমাত্র আমাকে ব্যবহার করছে কিন্তু আমি পাত্তা দিইনি কারণ আমার গৃহীত বোধ করার প্রয়োজন ছিল যদিও এটি সম্পূর্ণভাবে ক্ষতিগ্রস্থ হয়',\n",
       " 'আমি সবসময় চাপ অনুভব করি',\n",
       " 'আমার মনে আছে আরেকটি ক্র্যাম্প অনুভব করেছি কিন্তু আমি তা উপেক্ষাও করেছি',\n",
       " 'আমি আশা করি আমি এই বাহ্যিক জগতের মধ্যে নিজের সাথে শান্তিতে ঘুমিয়েছি এবং ভাল খাওয়ানোর মতো নরম বোধ করছি',\n",
       " 'আমি আরও শিখেছি যে একজন ভাল মা না হওয়ার জন্য ক্লান্ত এবং দোষী বোধ করার জন্য কান্নায় ভেঙে না পড়ার জন্য আমার জন্য অনেক প্রচেষ্টা এবং ইতিবাচক চিন্তাভাবনা লাগে',\n",
       " 'আমি ভয়ঙ্কর বোধ করছি কারণ আমরা আগের দিন আমার বন্ধু এবং তার নতুন শিশুর সাথে হ্যাং আউট করেছি',\n",
       " 'আমি খুব শিথিল এবং ভাল বোধ করছি',\n",
       " 'আমি কষ্ট অনুভব করি এবং আমি সত্যিই ব্যথা অনুভব করি',\n",
       " 'আমি ঘুমাতে যাই আমার মনে হয় আমি আমার জীবনের সাথে অন্য কিছু করার জন্য মূল্যবান সময় দিচ্ছি',\n",
       " 'আমার মনে হচ্ছে আমি আমার প্রিয় মা ব্লগকে অবহেলা করছি',\n",
       " 'আমি বলব যে আমরা একটা জিনিস অনুভব করেছি কারণ তিনি যখন লিখেছিলেন তখন তিনি xxx এর প্রতি আগ্রহী',\n",
       " 'আমি সামনের দিকে তাকিয়ে থাকা একটি ঢালের কিনারার মতো আতঙ্কিত বোধ করছি',\n",
       " 'আমি অনুভব করি যে সম্পূর্ণ তালিকাহীন পরীক্ষা এসেছে এবং চলে গেছে এবং এখন আমার সামনে সম্পূর্ণ পাঁচ বা তার বেশি মাস আছে কোন ইউনি এবং অবসর সময় নেই',\n",
       " 'আমি ক্ষুব্ধ বোধ করি যে জীবনের অধিকারের উকিলরা আমাকে বলতে পারে এবং কীভাবে বাঁচতে হবে এবং তাদের মতামতের প্রতি সহানুভূতিশীল রাজনীতিবিদদের তদবির এবং সমর্থন করার মাধ্যমে কীভাবে মরতে হবে',\n",
       " 'আমার মনে হয় যেন আমি কোনোভাবে নির্যাতিত হয়েছি',\n",
       " 'আমি এখনও মনোযোগ দিচ্ছি কিন্তু আমি বিভ্রান্ত বোধ করছি',\n",
       " 'আমি তৃতীয় ব্লকটি একই সাথে গরম এবং ঠাণ্ডা অনুভব করতে শুরু করলাম এবং জেনেছিলাম যে আমার কাছে এখনও পাঁচ ঘন্টা পরীক্ষা বাকি আছে যে কোনটি ভাল করবে কিনা সে সম্পর্কে কোন ধারণা নেই',\n",
       " 'আমি পরামর্শ দিতে দ্বিধাবোধ করি কারণ আমি মনে করি যে ফলাফলটি আন্তরিক হবে না',\n",
       " 'আমি এই সুনির্দিষ্ট সময়ে সংখ্যাগরিষ্ঠকে খুব ভয়ঙ্করভাবে পছন্দ করি না',\n",
       " 'আমি অনুভব করতে পারি যে আমার ব্যক্তিগত নিরাপত্তার ক্ষতিগ্রস্থ পণ্যের দিকগুলির উপর আমি নিয়ন্ত্রণ লাভ করছি',\n",
       " 'আমি সেই প্রথম সাক্ষাত্কারটি বোমা মেরেছিলাম যে আমি দ্বিতীয় সাক্ষাত্কারটি বেশ ফ্যান ফ্রেকিং টেস্টিক অনুভব করে ছেড়ে দিয়েছিলাম',\n",
       " 'আমি মনে করি সস তেল, মশলা এবং অন্যান্য অপচনশীল জিনিসগুলির একটি ভাল তালিকা তৈরি করতে আমাদের এত সময় লেগেছে যাতে মনে হয় যে আমরা নির্দিষ্টভাবে বাইরে গিয়ে একটি রেসিপিতে প্রতিটি আইটেম না কিনেই সুস্বাদু কিছু তৈরি করার সুযোগ পেয়েছি।',\n",
       " 'আমি এখন অনুভব করছি যে আমি অন্য বাবাদের পরামর্শ দিতে পারি যাদের বাচ্চারা শীঘ্রই কিশোর হয়ে উঠবে, আপনার বাচ্চাদের হাইস্কুলে নিয়ে যাওয়ার জন্য তাদের জানালা দিয়ে বেরিয়ে আসা গাছপালা দিয়ে দুর্গন্ধযুক্ত জলোচ্ছাসে নিয়ে যাওয়া মোটেই ভালো নয়।',\n",
       " 'আমি বালির ঐতিহ্যবাদীদের মাথা দিয়ে আমাদের দেশে টানাটানির শিকার বোধ করি আমি তাদের রক্ষণশীল বলতে দ্বিধা করি ঈশ্বরের রক্ষণশীলদের প্রতি সত্যিকারের সৎকে আঘাত করার ভয়ে যারা এখনও মনে করে যে পৃথিবী বহু বছর আগে তৈরি হয়েছিল এবং কঙ্কালের অবশেষের মতো জিনিসগুলি এক ধরণের প্রতারণা।',\n",
       " 'আমি ভাগ্যবান বোধ করব আপনার সাইটের যেকোন সামগ্রী এবং কিটগুলিকে কল করতে পারলে সেগুলি সুন্দরভাবে কিউরেট করা হয়েছে৷',\n",
       " 'আমি আমার রক্তের জন্য ছিলাম যা প্রমাণ করে যে আমি এত অলস বোধ করছিলাম এবং আবর্জনা ছিল যে আমার আয়রনের পরিমাণ কম তাই আমাকে এখন আয়রন ট্যাবলেট দেওয়া হয়েছে',\n",
       " 'আমার নিজের মন আছে এবং আমি মনে করি আমার মন আমার জীবনের জন্য বিপজ্জনক',\n",
       " 'আমি অনুভব করি যে আমি সবাইকে ভালবাসি বা অন্তত আমি অন্যদের প্রতি সহানুভূতিশীল',\n",
       " 'তোমাকে অবহেলার জন্য আমার শাস্তি হওয়া উচিত বলে মনে হচ্ছে',\n",
       " 'আমি মনে করি এটা শুধু এই সুদৃশ্য পোলিশ সৌন্দর্য ক্যাপচার না',\n",
       " 'আমি মনে করি আমি আমার কিছু মূল শিকড় হারিয়ে ফেলেছি আমি মানসিকভাবে আর্থিক এবং সামাজিকভাবে কম নিরাপদ বোধ করছি',\n",
       " 'আমি মনে করি আমার শুধু বুলেট কামড়ানো উচিত এবং এটি করা উচিত কিন্তু প্রতিবার আমি এটি সম্পর্কে চিন্তা করি আমি চাপ অনুভব করি কারণ আমি আমার সিদ্ধান্তগুলিতে সম্পূর্ণরূপে সমর্থিত নই',\n",
       " 'আমি জানি আমার কিছু আপত্তিকরভাবে অপরিপক্ব শব্দযুক্ত মৌখিক কৌশল রয়েছে এবং আমার কণ্ঠস্বর অনুনাসিক এবং আমি সবসময় শেডের সবচেয়ে তীক্ষ্ণ হাতিয়ারের মতো দেখতে পাই না, বিশেষ করে যখন আমি বিশ্রী বোধ করি তবে সেখানে জানা আছে এবং আপনি জানেন তা জানা আছে',\n",
       " 'আইডি কেবল একটি ভয়ানক দুঃস্বপ্ন দেখেছিল এবং কিছুটা বিরক্ত বোধ করছিল',\n",
       " 'গ্রাহকরা বিরক্ত বোধ করলে আমি সেখানে যেতে চাইনি',\n",
       " 'আমি চাই অন্য ভুক্তভোগীরা আমাকে এই আশায় খুঁজে পাবে যে আমার যুদ্ধ তাদের অনুভব করতে সাহায্য করবে যে তারা একা নয়',\n",
       " 'আমি আগামীকাল স্কুলে যেতে অস্বাভাবিক অনিচ্ছা বোধ করছি যদিও সোমবার এবং সময়সূচীটি বেশ ভাল',\n",
       " 'আমি খুব উত্সব এই খুব সুস্বাদু অনুভূত weeeeee কি একটি মহান রাত',\n",
       " 'আমি আমার স্বামীর কাছে হতাশা বা মানসিক যন্ত্রণার মতো মার খাওয়ার জন্য অপেক্ষা করছি না',\n",
       " 'আমি খারাপ বোধের জন্য অসুস্থ',\n",
       " 'আমি মনে করি আমি প্রায় নিজেকে নিশ্চিত এই প্যাটার্ন হতে যাচ্ছে',\n",
       " 'আমি এগুলি পরিধান করি যখন আমি একটি পোষাক পরে থাকি যা আমাকে সেই প্রাচীন আন্ডারওয়্যারের মতো স্লুটি বোধ করে তবে স্পষ্টতই একটু বেশি চটকদার বা সামান্য বিট থেকে কিছুটা বেশি',\n",
       " 'আমি আমার আত্মনিয়ন্ত্রণে একটি বিকৃত গর্ব অনুভব করি যে আমি যেখানে আমাকে আদেশ করা হয়েছিল সেখানেই থাকতে পেরেছি এবং আমাদের সামনে এত কাছে লোভনীয় মানব মাংসের জন্য পৌঁছতে পারিনি',\n",
       " 'আমি এতটাই অধৈর্য বোধ করি যে এত সহজে বিরক্ত হয়ে এতটা ক্ষোভ প্রকাশ করে যে আজকাল অলিভিয়াস সবচেয়ে বিশিষ্ট চরিত্র বলে মনে হয়',\n",
       " 'আমাদের বছরের শেষ অফিসিয়াল ক্লাসের পরে যখন বাচ্চারা আজ সকালে চলে গেল তখন আমি ইতিবাচকভাবে ঘাবড়ে গিয়েছিলাম কিন্তু এখন আমি একটু দুঃখ বোধ করছি',\n",
       " 'আমি তাকে সমর্থন বোধ করি আমি সাহায্য করতে পারি না কিন্তু ঈর্ষান্বিত বোধ করি',\n",
       " 'আমি প্রধানত টেক্সট করতে পছন্দ করি কারণ আমার মনে হয় আমি উচ্চারিত শব্দের চেয়ে লিখিত শব্দে অনেক বেশি চতুর',\n",
       " 'আমি গুরুত্ব সহকারে অনুভব করি যে আমি সম্মান পাচ্ছি না আমার গোপনীয়তা নেই আমাকে চারপাশে আদেশ দেওয়া হচ্ছে',\n",
       " 'আমি একজন ভক্তের কথায় বলেছিলাম যে আমি আপনার দ্বীনবন্ধু উপাধি শুনে স্বস্তি অনুভব করি কারণ আমি সবচেয়ে পতিত ব্যক্তি কিন্তু আমি নিজেকে একজন সত্যিকারের ভক্ত বলে মনে করি না বলে আপনার ভক্তদের উন্নতিকারী উপাধিতে আমি ভীত হই। এবং তাই আপনার ব্যক্তিত্বের দিক থেকে উপকৃত হওয়ার অযোগ্য',\n",
       " 'আমি ব্যক্তিত্ব যারা ব্যথা এবং কষ্ট অনুভব করতে পারে',\n",
       " 'আমি অনুমান করি যে আমি জোসেফের মতো অনুভব করব যে ওয়াল্ট আমাকে মায়ের যত্ন নেওয়ার জন্য বিশ্বাস করে এবং মৃত্যুর ছয় মাস আগে তিনি যে অর্থ দিয়েছিলেন তার জন্য অনেক সময় আমি আমার আত্মরক্ষা করতে চাই কিন্তু ঈশ্বর আমাকে শান্ত করেন',\n",
       " 'আমি একটু অলস বোধ শুরু উষ্ণ আপ ছিল',\n",
       " 'আমি চমৎকার অনুভব করি কিন্তু মাঝে মাঝে কিছু করার থাকে না বিশেষ করে যেহেতু আমি সত্যিই ভিডিও গেমের প্রতি আগ্রহী নই আমি একটু এনিমে এবং কিছু মুভি দেখি কিন্তু আমার জীবনে আরও কিছু হতে হবে',\n",
       " 'আমি আশ্চর্য হচ্ছি যে মাস্টার এটাই অনুভব করছেন যে আমি চাই এবং খুশি করতে আগ্রহী এবং আমি এমন একজন মাস্টার যে তার আমার মনোযোগকে খুব উপভোগ করতে পারত কিন্তু জিততে পারিনি কারণ এটি ভুল কারণ তার আমার স্নেহ ফিরিয়ে দেওয়ার কোনো ইচ্ছা নেই',\n",
       " 'আমি এখন একটু বেশি ইতিবাচক বোধ করছি কারণ প্রথমে জিনিসগুলি বেশ কঠিন ছিল কারণ আমার সঞ্চয়গুলি খরচের সাথে দ্রুত খেয়ে ফেলা হয়েছিল এবং আমি আমার প্রেমিকের জন্য বোঝা হয়ে উঠতে চাইনি কিন্তু আমরা অন্য প্রান্ত থেকে বেরিয়ে এসেছি এবং আমি আরও উজ্জ্বল এবং আরও অনুপ্রাণিত বোধ করছি আসা জিনিস',\n",
       " 'আমি এই মুহূর্তে বরং আবেগপ্রবণ বোধ করছি এবং শুধু বলতে হবে আমি সর্বোচ্চ মা হতে পেরে অনেক ভাগ্যবান বোধ করছি',\n",
       " 'আমি নিজেকে হাজির করি এবং ভিড়ের মধ্যে বিচ্ছিন্ন বোধ করি অসুস্থ জানি আমি সমাজবিরোধী অনুভূতি সম্পর্কে ভুল ছিলাম',\n",
       " 'আমি শিখেছি কীভাবে আমার সমস্ত আবেগকে আরও বেশি করে বন্ধ করতে হয় এবং আমি প্রায়ই নিজেকে সম্পূর্ণ ফাঁকা বোধ করি যখন আমার মা আমার আত্মহত্যার জন্য ক্রমাগত কাঁদছেন',\n",
       " 'আমি শৈলীর প্রতি অনুগত বোধ করি',\n",
       " 'আমি বুঝতে পারি যে আপনি মনে করতে পারেন যে আপনি লন্ডনের দুর্বল এবং গৃহহীনদের জন্য এই সুনির্দিষ্ট উপায়ে আপনার কাজটি করবেন না',\n",
       " 'আমি অবশেষে তালিকাহীন এবং স্থানের অপচয়ের মতো অনুভূতি বন্ধ করতে পারি',\n",
       " 'আমি জানি আমি উত্তেজিত বোধ করছি কারণ এটি খুব বেশি মাত্রার একটি পার্শ্ব প্রতিক্রিয়া থেকে',\n",
       " 'আমি আরও ইতিবাচক হওয়ার জন্য আমার মধ্যে একটি পরিবর্তন অনুভব করি',\n",
       " 'আমি যথেষ্ট সাহসী বোধ করছি',\n",
       " 'চোরের ভয়',\n",
       " 'আমি বুদ্ধিমান নভে',\n",
       " 'আমি সবসময় সেখানে আমার চেয়ে বেশি অর্থ ব্যয় করি এবং যখন আমি দোকান থেকে বের হই তখন অসন্তুষ্ট বোধ করি',\n",
       " 'আমি সত্যিই বেশ রাগান্বিত বোধ করছি',\n",
       " 'আমি মনে করি কেরি নাগরিক ইউনিয়ন এবং সমকামী সমতা সমর্থন করে তা করেননি',\n",
       " 'আমি সত্যিই লজ্জিত বোধ করছি',\n",
       " 'আমি আমার জীবনে এই আশ্চর্যজনক মানুষ আছে মনে',\n",
       " 'আমি অবশেষে বিচার ও উপহাস বোধ করেছি কারণ আমি বুদ্ধিমান',\n",
       " 'আমি এই অপরিচিত ব্যক্তির দ্বারা কিছুটা অপমানিত বোধ করতে শুরু করেছি',\n",
       " 'আমার অনেক দিন আছে যেখানে আমি আজ আশাহীন বোধ করছি আমার হলুদ ইটের রাস্তার শেষের আলোটি একটু উজ্জ্বল হয়ে উঠছিল',\n",
       " 'আমি আসলে দুঃখিত বোধ করি',\n",
       " 'আমি বুট পরা মহিলাদের দেখে আমার ঈর্ষা হয় যে আমি তাদের অভিশাপ দিতে চাই',\n",
       " 'আমি যা অনুভব করি তা আমি অনুভব করব এবং আপনাকে বলব এবং একসাথে আমরা ক্ষমা চাইব এবং তৈরি করব এবং একে অপরকে বিট এবং বিট ভালবাসতে থাকব',\n",
       " 'আমি তার কাছে যাই এবং আমি বলি যে আপনি নাওমি ক্লেইন ঠিক আছেন',\n",
       " 'আমি আমার প্রতিটি ইন্দ্রিয়কে নিস্তেজ অনুভব করতে লাগলাম যতক্ষণ না ঠান্ডা কালো অচেতনতা আমার উপর এসে পড়ে',\n",
       " 'আমি সন্দেহ করি ব্যক্তিগতভাবে অনুরাগী কম বোধ',\n",
       " 'আমি এতটাই সম্মানিত ছিলাম যে এই যুবতী আমাকে জিজ্ঞাসা করতে যথেষ্ট স্বাচ্ছন্দ্য বোধ করেছিল যে তখন আমার কাছে একটি ভুল বাজপাখির ঘটনা ঘটছে তাই আমি অবশ্যই তার আমার সাথে কথা বলা নিরাপদ বোধ করার জন্য যথেষ্ট ডাইকি দেখতাম',\n",
       " 'আমাকে আশ্চর্য হতে হবে যখন আপনি একজন গুহামানব হিসেবে অভিনয় করেন এবং আপনাকে বলা হয় যে আপনি অপমানিত বা প্রশংসিত বোধ করেন সেই অংশের জন্য আপনি নিখুঁত',\n",
       " 'আমি নিশ্চিত বোধ করছি এবং অনেক বৈচিত্র্যময় মূল্য ট্যাগ রয়েছে যে আমি নিশ্চিত যে প্রত্যেকেরই তাদের প্লট তুলনামূলকভাবে অর্থনৈতিকভাবে আলোকিত করার জন্য তহবিল নিয়ে আসা উচিত',\n",
       " 'বাচ্চা না থাকলে আমি খালি বোধ করি',\n",
       " 'আমি এত ক্লান্ত বোধ করা বন্ধ করেছিলাম একটি href http provokingbeauty',\n",
       " 'আমি ফন্ট বন্ধুত্বপূর্ণ বোধ',\n",
       " 'আমি আমার পুঁতির উপর হাত রেখেছিলাম',\n",
       " 'আমি সবসময় অন্য লোকেদের দ্বারা ভয় পাই, বিশেষ করে যখন তারা সবসময় আমাকে অন্য লোকেদের সাথে তুলনা করে যখন আমি ছোট ছিলাম',\n",
       " 'আমি পচা বোধ করা হবে',\n",
       " 'আমি প্রতিকূল বোধ করতে শুরু করেছি এবং আমি আমার হেমোরয়েড পরীক্ষা করছি',\n",
       " 'আমি নতুন জুতা পরতে ভালোবাসি আমি খুব চটকদার বোধ করি এবং যখন আমি একজোড়া ডিজাইনার জুতা পাই তখন আমি বাক্সটি এবং তাদের সাথে আসা সমস্ত ছাঁটাই পছন্দ করি',\n",
       " 'আমি জানি যে কোন রোমান্টিক বা যৌন অনুভূতি আমি সফলভাবে নিজের থেকে লুকিয়ে রেখেছি এই সত্যের সাথে অনেকাংশে কাজ করতে হবে',\n",
       " 'আমি শুধু আপনাকে উষ্ণভাবে আলিঙ্গন করা এবং কারো কাছে এত মূল্যবান এবং ছোট মূল্যবান কিছু অনুভব করার অনুভূতি ভালবাসি',\n",
       " 'আমি স্বাভাবিকের চেয়ে অনেক বেশি নরম বোধ করছি',\n",
       " 'লোকেরা কী পরেছে তা আমি অধ্যয়ন করার সময় আমি আরও হতাশ হয়ে পড়ি এবং মনে হতে লাগলাম যে কিছু পোশাক জমকালো হলেও সেগুলি সেইভাবে কেনা হয়েছিল',\n",
       " 'আমি এগুলিকে মোম করে এগুলিকে আঁকতে চাই না বা আমার কেবল একটি ভ্রু না থাকা দরকার এবং যদি আমি সাহসী বোধ করি তবে আমার চোখের পাপড়ির দিকে নেমে আসা কয়েকটি অতিরিক্ত চুল থেকে মুক্তি পেতে চাই',\n",
       " 'আমি ভাগ্যবান প্রস্থ li স্টাইল বর্ডার px তালিকা শৈলী মার্জিন px px বাইরে বোধ করছি',\n",
       " 'আমি সেই উচ্চ বিদ্যালয়ের অনুভূতিগুলি স্মরণ করি এবং যে আকাঙ্ক্ষার সাথে আমি অলিম্পিক দৌড়বিদদের দেখেছিলাম তা আমি অনুভব করি',\n",
       " 'আমি আত্মবিশ্বাসী বোধ করে জেগে উঠলাম এবং কিছু কোচিং টিপস এবং বাধ্যতামূলক ইঙ্গিত সংগ্রহ করতে বডিপাম্প ডিভিডি দেখলাম',\n",
       " 'আমি বলিনি যে শক্তিশালী অনুভূতি সর্বদা প্রথমে আমাকে সন্দেহজনক করে তোলে',\n",
       " 'আমি আপনার সাথে কথা বলতে চাই তবে ফোনে আমাদের সীমিত সময় এবং আমাদের বর্তমান ব্যবস্থার সাথে আমি এটি নিয়ে আসতে দ্বিধা বোধ করি',\n",
       " 'আমি অনুভব করতে শুরু করেছি যে আমি পাস করতে পারি এমন একটি ভাল সুযোগ রয়েছে',\n",
       " 'আমি মনে করি আমার আরও কিছুটা নিয়ন্ত্রণ আছে এবং আমি যদি জানি সামনে কী আছে তবে মিষ্টি মটরকে আরও ভালভাবে সাহায্য করতে পারি',\n",
       " 'আমার মনে হচ্ছে আমি একটি হিংসাত্মক আক্রমণের শেষ প্রান্তে আছি',\n",
       " 'আমি মনে করি যে ব্যাচ ফাইলগুলির সাথে পরিচিত নয় এমন লোকেদের জন্য এটি নথিভুক্ত করা সার্থক',\n",
       " 'আমি এবং আমি এই মুহূর্তে আমাদের জীবনে অনেক ছোট আশীর্বাদের জন্য বিশেষভাবে কৃতজ্ঞ বোধ করছি',\n",
       " 'আমি আশা করছি যে আবহাওয়াবিদ তার বাড়িতে থাকার পূর্বাভাস ঠিক করেছেন আগামীকালের জন্য বৃষ্টির বাইরে যাবেন না আমি সব ধরনের সৃজনশীল বোধ করছি',\n",
       " 'আমার মনে হচ্ছে আমি এই অণুজগতের একেবারে কিনারায় রয়েছি আরও একটি বিশ্রী মুহূর্ত বা মিস পার্টি এবং আইডি বাইরের দিকে',\n",
       " 'আমি আসলে একটু মজার বোধ করি',\n",
       " 'গত দুই বছরে আমি আর কিছুই শিখিনি যে আমার সহজাত প্রবৃত্তির উপর আস্থা রেখে আমার পথ অনুভব করাই ভালো',\n",
       " 'আমি অনুভব করছি একটি পুষ্পিত উদগ্রীব উদ্বেগও',\n",
       " 'আমি এটা শেয়ার করা বোঝা বোধ',\n",
       " 'আমি সবসময় আমার পাশে নিমো চাই এবং তাকে ছাড়া ঘুমানো এখন অদ্ভুত লাগে যদিও এটা প্রায়ই ঘটে না',\n",
       " 'আমি সাজসজ্জা অনুভব করছি না তবে হিলগুলি সুন্দর',\n",
       " 'আমি এর পরে বিভ্রান্ত বোধ করি',\n",
       " 'আমি অনুভব করি যে সেশনটি দরকারী ছিল এবং আমাকে আমার জীবনে এগিয়ে যাওয়ার জন্য প্রয়োজনীয় সরঞ্জামগুলি দিয়েছে',\n",
       " 'যখন আমি জানি নিউটাউনে বাবা-মায়েরা তাদের হারিয়ে যাওয়া বাচ্চাদের জন্য দুঃখ করছে তখন আমি একটি সন্তানের জন্য আমাদের একাকীত্বকে তুলে ধরার জন্য স্বার্থপর বোধ করি',\n",
       " 'আমি সমস্ত হতাশাজনক অনুভূতি কেড়ে নিয়েছি সমস্ত পেইন্টিং আমি আমার হৃদয়কে প্রভুর দ্বারা নিরাময় করার জন্য দিয়েছিলাম কারণ তিনিই একমাত্র ভালবাসা যিনি কখনও বিশ্বাসঘাতকতা করেননি এমনকি আমি তার প্রতি আনুগত্য করিনি',\n",
       " 'আমি ঈর্ষান্বিত এবং বিব্রত বোধ করি',\n",
       " 'আমি তার মধ্যে উন্মত্ত প্রয়োজন অনুভব করতে পারতাম আমাকে তার করার প্রয়োজন',\n",
       " 'আমি একজন শিক্ষক হওয়ার দায়িত্ব নিয়ে অভিভূত বোধ করছি যে কেউ তার সবচেয়ে মূল্যবান উপহার দিয়ে আমাকে বিশ্বাস করছে এবং এটি একটি সম্মানের',\n",
       " 'আমি এখন খুব শান্ত বোধ করছি এটি দুর্দান্ত',\n",
       " 'আমি হতাশ বোধ করি যখন আমার কাছে নতুন মিউজিক এবং নতুন লিরিক্স থাকে যার স্পষ্টভাবে একে অপরের সাথে কিছুই করার নেই',\n",
       " 'আমি ভেবেছিলাম যে আমরা কথা বলতে যাচ্ছি এবং চেষ্টা করব এবং জিনিসগুলিতে কাজ করব তাই স্টিভ সিদ্ধান্ত নিয়েছিল যে সে নিজে থেকে থাকতে চায় তা জানতে পেরে আমি হতবাক হয়ে গিয়েছিলাম যে জিনিসটি আমাকে ভেঙ্গেছিল তা ছিল অপছন্দের অনুভূতি',\n",
       " 'একটি ইমো বাচ্চাকে সম্পূর্ণরূপে অবাঞ্ছিত বোধ করে এমন অবিশ্বাস্যভাবে ভাল কথ্য বাউন্সারের সাক্ষী হতে পারতাম না',\n",
       " 'আমি যখন চাপ অনুভব করি তখন আমার শ্বাস বন্ধ হয়ে যায়',\n",
       " 'আমি কয়েক বছর ধরে ধূমপায়ী ছিলাম এবং আপনার বইটি শেষ করার ঠিক কয়েক সপ্তাহ আগে ছেড়ে দিয়েছিলাম এবং আমি বিশ্বাস করতে পারি না যে আমি কতটা মুক্ত বোধ করি আমি জানতাম যে আমাকে ছেড়ে দিতে হবে কিন্তু আমি সিগারেট ছাড়া আমার জীবন নিয়ে আতঙ্কিত ছিলাম',\n",
       " 'আমি আমার মেইলবক্সে যাব এবং মেইলম্যানের সাথে কথা বলব তারপর মুদি কেরানি ইত্যাদির সাথে কথা বলব কিন্তু পদক্ষেপ যতই ছোট হোক বা ঝুঁকি যতই সীমিত হোক না কেন চিন্তাভাবনা অনুভূতি এবং সংবেদনগুলি উত্থিত হোক না কেন তা অনুভব করার সম্পূর্ণ এবং সম্পূর্ণ ইচ্ছা গুরুত্বপূর্ণ',\n",
       " 'আমি ইতিমধ্যে পাগল বোধ করছি',\n",
       " 'আমি মনে করি এই নিরাপত্তাহীনতা একটি ভাল জিনিস যখন আমি প্রথম লিখতে শুরু করি আমি এটি সব চিত্রিত করেছি',\n",
       " 'আমি প্রশংসা বা অপমান বোধ করা উচিত',\n",
       " 'আমি বশ্যতা মধ্যে পড়ে এবং আমি অন্তত বশ্যতা বোধ করি না আকুল',\n",
       " 'আমি এখন কোমল বোধ করছি এবং আমি এর সাথে ভাল আছি',\n",
       " 'আমি বিরক্ত বোধ করি এমনকি যখন কেউ আমাকে সেই মুহুর্তে জাগিয়ে তোলে যখন আমি গভীর ঘুমের প্রান্তে ছিলাম',\n",
       " 'আমি কাজ করতে পেরেছি কিন্তু আমি একটু বিরক্ত বোধ করছি',\n",
       " 'আমি তোমাকে ভালবাসতে চাই কিন্তু আমার মনে হয় কোন এক ধরনের বাধা যা আমাকে তোমাকে ভালবাসতে বাধা দিচ্ছে',\n",
       " 'আমি অনুভব করি যে তারা নিজেদের প্রতি অনুরাগী এবং ঠিক আছে দ্বিতীয় চিন্তাটি এখানে বানান করার জন্য সত্যিই সংবেদনশীল',\n",
       " 'অসুস্থ এই ত্রৈমাসিক আমি এটি সম্পর্কে আশাবাদী বোধ',\n",
       " 'আমি জীবনে অবাঞ্ছিত বোধ করতে শুরু করেছি এবং কিছু লোক ইতিমধ্যে এটি বলতে পারে',\n",
       " 'আমি একেবারে চমত্কার অনুভব করি এবং আমি আশা করি শিশুটিও করবে',\n",
       " 'আমি তুষার পড়া দেখেছি এবং কনিফার গাছে জমা হতে দেখেছি যখন আমি আমার শার্টের হাতা বেলচাচ্ছিলাম এবং প্রবল বোধ করছিলাম',\n",
       " 'আমি তিক্ত বোধ করি এবং সাধারণভাবে কেবল হংকরব্লঙ্কড',\n",
       " 'আমি অনুভব করেছি যে আপনার বাবা ইতিমধ্যেই তাকে এই বিষয়ে রাজি করেছেন',\n",
       " 'আমি ভালোবাসি এবং আবেগ অনুভব করি যে আমি আমার স্বপ্নে বেঁচে আছি এবং এখন আমি এমন একটি স্বাদ পেয়েছি যা মনে হয় কিছুই আমাকে থামাতে পারে না',\n",
       " 'আমি আমার পায়ের আঙ্গুলের মধ্যে কাদা ছিঁড়ে যাওয়ার অনুভূতিতে আনন্দের সাথে বৃষ্টির চিৎকারে খেলি এবং বাইরে যা কিছু ঘটে তা উপভোগ করি',\n",
       " 'আমি হাস্যকর বোধ করছি',\n",
       " 'আমি শুধু নিজেকে অন্য জিনিস নিয়ে ব্যস্ত থাকি কিন্তু কখনোই এমন ব্লগ বা থ্রেড নিয়ে থাকি না যা আমাকে দুঃখিত করবে',\n",
       " 'আমি সমাজকে কিছু ফিরিয়ে দেওয়ার আমার সম্ভাবনা সম্পর্কে এবং আমার হৃদয়ের পরে কাউকে খুঁজে পাওয়ার বিষয়ে ঈশ্বর সম্পর্কে জীবন সম্পর্কে আবার উত্সাহিত এবং কৌতূহলী বোধ করি',\n",
       " 'আমি খুব সুবিধাজনক বোধ করি তবে এটি অনেক কাজ',\n",
       " 'আমি বেশ খুশি কিন্তু রোমাঞ্চিত বোধ করার জন্য একটু বমি বমি ভাব করছি',\n",
       " 'আমি আমার চোখ বন্ধ করি আমি আমার নিজের কান্নার করুণ কান্নার শব্দ শুনতে পাচ্ছি আমার কান্নার নোনতা স্বাদের স্বাদ নিতে পারি এবং অনুভব করি যে রাগ এবং আঘাত আমার হৃদয়কে পরিপূর্ণ করে তোলে',\n",
       " 'আমি একটি কার্যত চর্বিমুক্ত হাজার দ্বীপ কিনেছি এবং নিজেকে নিয়ে খুব মুগ্ধ বোধ করছি আমার বন্ধুর সাথে লেটুস এবং শসার পাতায় এই পদার্থটি প্রচুর পরিমাণে ধরে রাখি তবে আপনি চর্বি না পোড়ালে এটি মোট চিনি হয়ে যাবে',\n",
       " 'আমি নিশ্চিত যে ভার্জিনিয়া ফ্লোরিডা এবং অন্যান্য মুষ্টিমেয় সুইং স্টেটের লোকেরা একমত বোধ করে না শুধুমাত্র ধ্রুবক ব্যারেজ দ্বারা অপমানিত হয়',\n",
       " 'আমার মনে হচ্ছে আমি একজন নিরপরাধ মানুষকে মৃত্যুদণ্ডে দণ্ডিত করছি',\n",
       " 'আমি নিশ্চিত ছিলাম না যে তাকে স্মার্ট বোধ করতে সাহায্য করার জন্য আর কি করতে হবে',\n",
       " 'আমি অনুভব করতে শুরু করি যে প্রতিটি জাগ্রত মুহূর্ত কাজের জন্য নিবেদিত',\n",
       " 'আমি শেখার পাঠের জন্য কৃতজ্ঞ বোধ করছি',\n",
       " 'আমি এমন আকাঙ্খা এবং দুঃখ অনুভব করি যখন আমি আমার চেয়ে বেশি সন্তানের পরিবার দেখি',\n",
       " 'আমি স্পষ্টভাবে ক্লারমন্টে এই ছোটদের উপর ফোকাস করতে বলে মনে করি যা দুষ্টু বলে মনে হয়',\n",
       " 'আমি আশা করি আপনি আনন্দিত বোধ করতে পারেন যে তিনি আপনাকে স্মৃতি সহ অনেক কিছু দিয়েছেন যা আপনি লালন করতে পারেন',\n",
       " 'আমি এখন বেশ মূল্যহীন বোধ করছি',\n",
       " 'আমি অনুভব করি যে আমার কিছু প্রকল্প চতুর এবং যথেষ্ট দরকারী আমি ভেবেছিলাম আমি সেগুলিকে নির্দেশাবলীতে ভাগ করা শুরু করব তাই আমি এই সপ্তাহান্তে আমার প্রথমটি লিখেছিলাম',\n",
       " 'আমি এই লাইনগুলি ধরে ভাবতে থাকলাম আমি সম্ভবত রাগ করে খাবারগুলি করতাম এবং যখন সে বিয়ে করে তখন আমার সাথে সম্পূর্ণ নির্যাতিত বোধ করা হয়েছিল তা নিয়ে ঝগড়া হয়েছিল',\n",
       " 'আমি ফিনল্যান্ডে বিশেষভাবে নার্ভাস বোধ করিনি কিন্তু যখন আমরা প্যারিসে অবতরণ করি তখন আমাদের সামনে কী হবে সে সম্পর্কে আমি কিছুটা অনিশ্চিত ছিলাম ভেবেছিলাম সেন্ট গ্রেডের ছাত্র জ্যানে সুমিনেন',\n",
       " 'আমি নির্দিষ্ট মুহুর্তে বাচ্চাদের সাথে যারা ঈর্ষা বোধ করি',\n",
       " 'আমি একটি সুন্দর বাজে মায়ের মত অনুভব করছিলাম',\n",
       " 'আমি আমার aac সম্পর্কে বিরক্ত বোধ করছি বা এই পুরো সপ্তাহে জীবন নিয়ে একধরনের দু: খিত এবং হতাশ বোধ করছি',\n",
       " 'আমি আর মোটেও ভয় পাই না আমি ঠিক আছি আমি অস্ত্রোপচার সম্পর্কে ভয়ঙ্কর বোধ করছি',\n",
       " 'আমি এখনও তার চারপাশে দুর্বল বোধ করি',\n",
       " 'আমি সত্যই নিশ্চিত নই যে আমি কেমন হতবাক বোধ করছি',\n",
       " 'আমি অনুভব করি আপনি যখন একজন যত্নশীল ব্যক্তি হন তখন আপনি আপনার জীবনে অন্যান্য যত্নশীল ব্যক্তিদের আকর্ষণ করেন',\n",
       " 'আমি তখন বেশ বিব্রত বোধ করছি কারণ আমি বলি যে নতুন কিছু নেই',\n",
       " 'আমি অনাকাঙ্খিত এবং জায়গার বাইরে বোধ করি কিন্তু আমি ঠিক করতে পারি না যে আমি এই ঠিক পরিস্থিতি সম্পর্কে কিছু করতে খুব ভয় পাচ্ছি বা যদি আমি এই শেষ পরিস্থিতিতে এখানে থাকি কারণ আমি ভয় পাচ্ছি যে পরিস্থিতি আরও খারাপ হবে',\n",
       " 'আমার বাচ্চাদের এত বিশেষ এবং প্রিয় বোধ করার জন্য আমি তাদের ধন্যবাদ জানাতে কাঁদতে পারি বা নাও করতে পারি',\n",
       " 'আমি সত্যিই খেলার জন্য আর্ট গ্যালারির কিছু গজ কিনতে যেতে চাই কারণ এটি খুব আশ্চর্যজনক মনে হয়',\n",
       " 'আমি মনে করি যে সে তার অনুগত হবে বলে মনে করে তার সাথে খাপ খাইয়ে নেওয়ার জন্য সে তার নিজের অনুভূতি হারিয়ে ফেলেছে',\n",
       " 'আমি অনেক প্রিয়জনের জন্য বোঝা বোধ করি এবং আমি আমার বড় বাচ্চাকে মিস করি যাকে আমি শুক্রবার থেকে দেখিনি',\n",
       " 'আমি অনুভব করি যে আমার পেটে এখনও নিচু',\n",
       " 'আমি মনে করি যে আমাকে একটি আঁটসাঁট পরিবারকে স্বাগত জানানো হয়েছে যারা নিশ্চিত করবে যে আমি কখনই একা বোধ করব না',\n",
       " 'আমি মনে করি এটা সন্দেহজনক',\n",
       " 'আমি সাধারণত ছোট লেগো ব্যবহার করি তবে এই বছর আমার কিছু ছাত্র আছে যাদের ভালো মোটর বিলম্ব আছে এবং আমি চাই আমার সকল শিক্ষার্থী সফল বোধ করুক',\n",
       " 'আমি কিছু ব্যায়াম করি এবং অনুভব করি যে এর মধ্যে আমি কিছু সার্থক করছি',\n",
       " 'আমি মনে করি আমার জীবন খুব সমৃদ্ধ এবং পরিপূর্ণ কিন্তু আমি জানি যে লোকেরা আমার জীবনযাত্রার দিকে তাকিয়ে থাকে এবং আমার জন্য কিছু ভুল দরদ অনুভব করে',\n",
       " 'আমি বিস্মিত ধন্য এবং হ্যাঁ খুব উত্তেজিত বোধ',\n",
       " 'আমি এই বিষয়ে কথা বলতে দ্বিধা বোধ করি',\n",
       " 'আমি সপ্তাহে পাঁচ দিন প্রতিদিন অন্তত মিনিটে যাওয়ার চেষ্টা করি যদিও আমি বিশেষভাবে অলস বা অলস বোধ করলে আমি একটি ওয়ার্কআউট এড়িয়ে যেতে জানি',\n",
       " 'আমি অসুস্থ বোধ করছি এবং সম্পূর্ণভাবে আশাহীন বোধ করছি যে আমি যে জীবন চাই তা পাব',\n",
       " 'আমি মন্তব্য করতে দ্বিধা বোধ করি কারণ আমি একটি পাইলনে যোগ করতে চাই না কিন্তু এটা আমার কাছে স্পষ্ট মনে হয় যে জড়িতরা তাদের অতীত অভিজ্ঞতা থেকে শিক্ষা নেয়নি বা ভবিষ্যতের প্রকল্পগুলিতে সেই শিক্ষাকে প্রয়োগ করতে আগ্রহী নয়',\n",
       " 'আমি ব্যক্তিগতভাবে এবং ধর্মতাত্ত্বিকভাবে আমার কাছে অসামান্য গুরুত্বের কারণে সম্পর্কে বেশ উত্সাহী বোধ করি',\n",
       " 'আমি সুখী এবং ভাল বোধ করছি',\n",
       " 'আমি বিষণ্ণ বোধ না করে নিজের সম্পর্কে চিন্তা করার জন্য নিজেকে অনেক বেশি সময় পাই, আসলে আটকা পড়া বোধ না করে লিখতে এবং কল্পনা করতে সক্ষম হতে পারি বা শহরগুলিতে আমার প্রায় অবিচ্ছিন্ন অনুভূতির মতো কিছু মিস করছি',\n",
       " 'আমি অনুভব করেছি যে ব্রিগ আন্তরিক এবং অন্যদেরকে আর্থিকভাবে এবং খ্রিস্টধর্মের মাধ্যমে সম্পর্ককে শক্তিশালী করার মাধ্যমে সফল হতে সাহায্য করার একটি অত্যন্ত দৃঢ় ইচ্ছা আছে',\n",
       " 'আমি মনে করি যে আমি আমার অনুভূতিগুলিকে আরও প্রায়শই জাল করতে হয়েছিল তারপর আমি পছন্দ করতাম',\n",
       " 'আমি উদ্যমী বোধ করছিলাম তাই আমরা সিদ্ধান্ত নিলাম যে আমরা বাকি মন্দিরগুলিতে বাইকে যাচ্ছি',\n",
       " 'আমি সত্যিই পছন্দ করি যে সে বলেছে শুধুমাত্র আপনিই বুঝতে পারবেন যে আমি যেভাবে অনুভব করি তা তিনি আমেরিকান স্বপ্নের উপর বাড়াবাড়িকে দোষারোপ করেছেন তাই খুব কমই সাক্ষী হন হা হা হা হা হা হা হা হা',\n",
       " 'আমি যখন একাডেমিক বা অ্যাথলেটিক্সের ক্ষেত্রে ভাল ফলাফল পাই তখন আমি খুশি',\n",
       " 'আমি জানি না আমি কোথায় কাজ করতে চাই কারণ সেখানে সবসময় এমন কিছু থাকবে যা আমাকে কর্মক্ষেত্রে চাপ বা উদ্বিগ্ন বোধ করে যা চাকরি যাই হোক না কেন সব চাকরির জন্য কিছু নিয়ম বা চাপের প্রয়োজন হয়',\n",
       " 'আইডি চেয়ার থেকে পপ আউট মনে হচ্ছে আমার আরও সার্থক কিছু করা উচিত',\n",
       " 'আমি সত্যিই আশা করছিলাম যে তারা আমাদের থেকে অনেক বেশি এগিয়ে যাবে যাতে আমরা অনুভব করতে পারি যে আমরা আমাদের নিজস্ব নেভিগেট করছি তাই দ্বিতীয় নিয়ন্ত্রণে খোঁচা দেওয়ার পরে যখন তারা বনের মধ্য দিয়ে একটি ট্রেইলে চলে গেল তখন আমি আনন্দিত হয়েছিলাম',\n",
       " 'আমি মনে করি সাধারণত আমি রাগ করব কারণ আমি আসলে মনে করি যে আমি কখনই আমার আকারে সুন্দর হতে পারি না',\n",
       " 'আমি আশ্চর্য হই যে কতজন লোক আমার এটা করার বিপক্ষে তখনই যখন আপনি এটিকে দৃষ্টিকোণ মত মনে করেন তবে আমি মনে করি আপনি যদি এটি করতে না চাওয়ার জন্য এটি করেন তবে এটি খারাপ কাজের ফলাফল হিসাবে পরিণত হবে',\n",
       " 'হাকলবেরি ফিন বইটিকে সেন্সর করা উচিত কিনা তা নিয়ে আমি সিদ্ধান্তহীন বোধ করছি',\n",
       " 'আমার জানা উচিত ছিল সে কামিকি কুন পছন্দ করে সে হাসে নোজোমি তার পেটে একটি অপ্রীতিকর গিঁট অনুভব করে আপনি অবশ্যই ভাববেন আমি বোকা',\n",
       " 'আমি পছন্দ করেছিলাম যখন অপ্রেমিত হওয়ার অনুভূতিটি শুরু হয় তখন আমি স্বীকৃতি দেওয়া শুরু করি এবং সেই পুরানো প্রতিক্রিয়াটি আমাকে বন্ধ করতে না দিয়ে আমার অধ্যবসায়কে একই স্তরে রাখতে বেছে নিয়েছিলাম',\n",
       " 'আমি মনে করি আমি উদযাপনের চেয়ে বেশি ঘৃণা করি এবং যেদিন আমি বলতে পারি যে আমি এটি তৈরি করেছি ততক্ষণ পর্যন্ত আমি অপেক্ষা করতে পারি না',\n",
       " 'আমি এখনও মজার লেখা অনুভব করি যে আমার মনে হয় তাকে আমার আত্মার গাইড বা সত্যিই পর্যবেক্ষণকারী চিয়ারলিডার বা অন্য কিছু বলা উচিত',\n",
       " 'আমি বরং এটা অনুভব করার চেয়ে কিছুই অনুভব করব না তাহলে আপনি যদি আপনার জীবনকে খুব হতাশাজনক এবং ধূসর এবং অপ্রীতিকর মনে করেন তবে অবাক হবেন না',\n",
       " 'আমি এই সিদ্ধান্তের সাথে খুব স্বাচ্ছন্দ্য বোধ করছি',\n",
       " 'এই পর্বের সময় আমি সত্যিই ঘামছি এবং আমার পেট সত্যিই মজার মনে হবে যেমন আমি বিনামূল্যে পড়ে যাচ্ছি',\n",
       " 'আমি ইদানীং খুব অভিভূত বোধ করছি',\n",
       " 'আমি বিউব্রোঞ্জের বিস্ময়কর জগত সম্পর্কে অনেক কিছু শিখেছি এবং মনে করি এই সুন্দর ট্যানিং ব্র্যান্ডটি আমার বউডোয়ার থেকে চুরি করা সর্বশেষ মন্ত্রের সাথে পুরোপুরি ফিট করে মা আসমা ডক্রেট',\n",
       " 'আমি বিদ্রোহী বোধ করি কারণ আমি বিশেষ করে রমকম দেখতে পছন্দ করি না কিন্তু আমি অনুভব করি যে আমি সেগুলি লিখতে বেশ ভাল হতে পারি',\n",
       " 'আমি যখন প্রথম মরিসে প্রবেশ করি তখন আমি যে স্বাগত বোধ করিনি তা দ্রুত পরিবর্তন করে এবং আমি খুব খুশি বোধ করি',\n",
       " 'আমি চিন্তা করছি এবং সন্দিহান বোধ করছি',\n",
       " 'আমি সাম্প্রতিক সময়ে উদ্বিগ্ন হয়ে উঠছি কি এই বিশ্বাসের কিছু লোকের মধ্যে অবশ্যই একটি অনুভূতি রয়েছে যে তারা অবরোধের মধ্যে রয়েছে যে তারা প্রায়শই সুবিধাবঞ্চিত হয় যে তাদের দেখা হয় এবং কিছু ভিন্নভাবে বিবেচনা করা হয় এবং তাদের বিশ্বাস তাদের সম্মানের যোগ্য করে তোলে বলেছেন',\n",
       " 'আমি মনে করি আমার যত্ন নেওয়া উচিত যে আমি না করার জন্য কিছুটা হৃদয়হীন',\n",
       " 'আমি কেমোকে ঘৃণা করি এবং প্রতিটি কোষের মধ্যে বিষাক্ত পদার্থ ধুয়ে ফেলার এবং আমাকে ভয়ঙ্কর বোধ করার চিন্তাভাবনা আমাকে ক্রন্দন করে তোলে',\n",
       " 'আমি এই ধরনের প্রতিভাবান একজনের জন্য এই সিরিজটি হোস্ট করতে পেরে অনেক সম্মানিত বোধ করছি',\n",
       " 'আমি তাকে ভালবাসি কিন্তু আমি তার সাথে একটু হুমকি বোধ করি',\n",
       " 'আমি allthingsbucks ব্লগ পড়ার পর অনুভব করেছি যেটি আমার চোখে জল এনেছে এবং আমার গলায় একটি গলদ রয়েছে এবং আমার এমন একটি খোঁড়া ব্লগ লেখা উচিত নয় তা নিয়ে মন খারাপ করার মতো কোনও মূল্যহীন জিনিস না থাকার অনুভূতি',\n",
       " 'আমি দৃঢ়প্রতিজ্ঞ বোধ করছিলাম যে আমার জন্য আবার দুষ্টু জিনিসের নামকরণ শুরু করতে বেশি সময় লাগেনি',\n",
       " 'আমি অনেক বিস্ময়কর শিল্পীর সাথে থাকতে পেরে এবং জনসাধারণের দেখার জন্য আমার কাজ প্রদর্শন করতে পেরে সম্মানিত বোধ করি',\n",
       " 'আমার মনে আছে যে আমি সম্পূর্ণভাবে চাপে আছি এবং যখন আমি মজা করছিলাম তখন আমি মনে করি এটি আরও প্রাণবন্ত হতে পারত',\n",
       " 'আমি খুব হতবাক একটি href http টুইটার বোধ',\n",
       " 'আমি দুশ্চিন্তা অনুভব করছি কারণ আমিও ব্যাথা পাচ্ছি',\n",
       " 'আমি সবসময় অনুভব করি যে আমি তার ছবি দ্বারা লাঞ্ছিত হয়েছি',\n",
       " 'আমি কেবল কৃতজ্ঞ নই যে আমি আমার নতুন চাকরিতে সপ্তাহ শেষ করার সাথে সাথে সবকিছু ঠিকঠাক কাজ করছে বলে মনে হচ্ছে কিন্তু আমাদের জীবনে আমরা যা করি এমন লোকদের পেয়ে বেশ ভাগ্যবান বোধ করছি',\n",
       " 'আমি অবিশ্বাস্যভাবে বিচ্ছিন্ন এবং একাকী বোধ করি',\n",
       " 'আমি আপনার সম্পর্কে অন্য কারো সাথে কথা বলতে খুব স্বার্থপর বোধ করি থাইরয়েড কারণ আমি চাই না যে তারা ভাবুক আমি নাটকীয় এবং ঘৃণ্য যখন সত্যিই তাদের পক্ষে বোঝা কঠিন যে হ্যাঁ কেউ দেখতে সুন্দর এবং এখনও ভয়ানক বোধ করতে পারে',\n",
       " 'আমার গতকাল একটি রক্ত \\u200b\\u200bপরীক্ষা করাতে হয়েছিল তাই সম্ভবত আমি এই মুহূর্তে এটিকে বিশেষভাবে পছন্দ করছি কারণ আমার ভিতরে থাকা ডাক্তারের সূঁচ এবং উনিশ বছর বয়সী মহিলার মাংস খাওয়ার মাথার সাথে সময় কাটানোর কারণে',\n",
       " 'আমি স্বীকার করেছিলাম যে আমি বিচ্ছিন্ন বোধ করার জন্য খুব চিন্তিত ছিলাম আমি নিজে থেকে একটি কিউবিকেলে কাজ করি যদি না কারো আমার প্রয়োজন হয়',\n",
       " 'আমার মনে হচ্ছে জীবন মোটামুটি মিষ্টি',\n",
       " 'আমি একতরফাভাবে ক্ষমা করে দিয়ে স্লেটটি পরিষ্কার করতে যাচ্ছি যাদের আমি মনে করি যে আমার সাথে অন্যায় করেছে বা আমি ইচ্ছাকৃতভাবে বা অসতর্কতার মাধ্যমে যাকে ভালবাসি যাতে আমি সময়ের সাথে সাথে অনুভূত অপমান এবং গালিগুলি ভুলে যেতে পারি',\n",
       " 'আমি মনে করি প্রতি বছর আমি শেখান আমি আমার কাজের প্রতি আরও উত্সাহী হয়ে উঠি আমার বাচ্চাদের জন্য আরও ভালবাসা খুঁজে পেতে এবং আরও কঠোর চেষ্টা করতে চাই',\n",
       " 'আমি সেই লোকদের মধ্যে একজন নই যারা তাদের সমস্ত অনুভূতি এবং রাগকে এক সেকেন্ডে কবর দিতে পারে এমনকি ব্যথা এবং রাগের মধ্যেও মিষ্টি হাসি দিয়ে',\n",
       " 'আমি জানতাম যে এটি কর্মক্ষেত্রে পবিত্র আত্মা ছিল এবং এটি একটি ম্যাসেজের মতো আমাকে আশ্বস্ত করার মতো ভালভাবে স্বর্গীয় বোধ করে',\n",
       " 'আমি মনে করি যেন আমি আমার কর্মজীবনের এমন এক পর্যায়ে পৌঁছেছি যেখানে আমি অত্যন্ত সম্মানিত',\n",
       " 'আমি এটির আলোকপাত করি তবে কখনও কখনও আমি ছোট দলে এবং একের পর এক কথোপকথনে সত্যিই বিশ্রী বোধ করি',\n",
       " 'আমার অনেক ভাল দিন ছিল যেখানে আমি দুর্দান্ত বোধ করি এবং প্রচুর শক্তি পেয়েছি কিন্তু সম্প্রতি আমার কিছু খারাপ দিনও ছিল যেখানে আমি বিশাল এবং ধীর এবং আনাড়ি বোধ করি',\n",
       " 'আমিও মনে করি যদি গুগল এসইওকে ঘৃণা করত আমরা তা জানতাম',\n",
       " 'আমি সেই রাতে এক পলক ঘুমাইনি এবং পরের দিন সকালে এতটা দুর্দান্ত না অনুভব করতে থাকি',\n",
       " 'আমি মনে করি আপনি মনে করেন এটি একটি ভুল কিন্তু সময় নষ্ট হয়ে গেছে ঘুম হবে না',\n",
       " 'আমি একটি সুন্দর বড় স্পন্দিত মোরগের উপর স্লাইড করতে ভালবাসি এবং অনুভব করি যে আমার সুন্দর শরীর একজন পুরুষের সাথে কী করে',\n",
       " 'আমি নিজেকে স্টক মার্কেটের সমাবেশ সম্পর্কে কিছুটা অনিশ্চিত বোধ করার অভিনব অবস্থানে পেয়েছি',\n",
       " 'আমি মনে করি সে আমাকে বিচার করছে এবং সে এখানে নেই এবং আমি অভাবী মেয়ের মতো মনে হতে চাই না তাই আমি জানি না',\n",
       " 'আমি অবশ্যই উত্সব অনুভব করছি',\n",
       " 'আমি তার উপস্থিতি দ্বারা বোঝা বোধ',\n",
       " 'আমি এখনও কিছুটা হতবাক বোধ করি এবং ওহ মাই গডের মতো অবিশ্বাসী অনুভূতি পেয়েছি',\n",
       " 'আমি খুব উত্তেজিত বোধ করছি কারণ সপ্তাহগুলি উড়ে যাচ্ছে এবং আমরা আমাদের নির্ধারিত তারিখের কাছাকাছি চলে যাচ্ছি',\n",
       " 'আমি সেই পৃষ্ঠাটি উল্টে দিয়েছি আমার মনে হচ্ছে আমার দায়িত্বহীন কলেজের দায়িত্বহীন বছরগুলি ফিরে পাওয়ার কোনও উপায় নেই',\n",
       " 'আমার নিজের কয়েকটি পছন্দের বই আছে কিন্তু বইয়ের পছন্দ আপনার উপর নির্ভর করে অথবা আপনি একটি ডিভিডি রাখতে পারেন যদি আপনি আমাদের বা ইউকে হন আমি উদার বোধ করি তাই সীমাটি এইরকম কিছু সম্পর্কে',\n",
       " 'আমি দীর্ঘ সময়ের চেয়ে বেশি প্রাণবন্ত আরও বেশি সুখী বোধ করছি',\n",
       " 'আমি সত্যিই দুঃখজনক কিছু সঙ্গে মুখোমুখি বোধ',\n",
       " 'আমি মনে করি বিপজ্জনক গেম বা কার্যকলাপ আছে',\n",
       " 'আমি মনে করি বেনজেমা ছাঁচে একজন বিশ্বমানের খেলোয়াড় চমৎকার হবে',\n",
       " 'আমি আসন্ন উদ্বেগের দ্বারা ভয়ানকভাবে বোঝা অনুভব করছি আমি শুধু পুরস্কারের দিকে আমার চোখ রাখার চেষ্টা করছি',\n",
       " 'আমি মনে করি অপ্রীতিকর হতে পারে প্রেম নিরাময় ক্ষমা এবং প্রত্যাশা যে সবকিছু ভাল পরিণত হবে',\n",
       " 'আমি বিষণ্ণ বোধ করছি কারণ আমি কিছুই সম্পন্ন করিনি যদিও আমার অনেক কিছু সম্পূর্ণ করার কথা ছিল',\n",
       " 'আমি যে পরিমাণে কাজ করতে চাই তা নিয়ে কাজ করছি না আমি মনে করি আমার জীবনধারা পরিবর্তন এখন পর্যন্ত সফল হয়েছে',\n",
       " 'আমি পর্ন ইন্ডাস্ট্রি পছন্দ করি এবং এতে কাজ করে আমি সন্তুষ্ট এবং পরিপূর্ণ বোধ করি আমাকে বলতে হবে যে এটি সত্যিই বড় অর্থ নিয়ে আসে না',\n",
       " 'আমি কিছু গীক্স রিংটোনে বিজয়ের সুর শুনেছি আমি বিজয়ী বোধ করছি']"
      ]
     },
     "execution_count": 11,
     "metadata": {},
     "output_type": "execute_result"
    }
   ],
   "source": [
    "tweets"
   ]
  },
  {
   "cell_type": "markdown",
   "metadata": {
    "id": "gcAflLv6xIgp"
   },
   "source": [
    "## Task 4: Tokenizer\n",
    "\n",
    "1. Tokenizing the tweets"
   ]
  },
  {
   "cell_type": "code",
   "execution_count": null,
   "metadata": {
    "id": "bWSVlSXcThPA"
   },
   "outputs": [],
   "source": [
    "#f = open('/content/train.txt', 'r')\n",
    "#shakes = f.read()"
   ]
  },
  {
   "cell_type": "code",
   "execution_count": null,
   "metadata": {
    "id": "EHKG-guTUl-2"
   },
   "outputs": [],
   "source": [
    "#shakes = shakes.splitlines()"
   ]
  },
  {
   "cell_type": "code",
   "execution_count": null,
   "metadata": {
    "colab": {
     "base_uri": "https://localhost:8080/"
    },
    "executionInfo": {
     "elapsed": 426,
     "status": "ok",
     "timestamp": 1676845671271,
     "user": {
      "displayName": "Plabon paul.",
      "userId": "12792684054671737244"
     },
     "user_tz": -360
    },
    "id": "Su1-XF5-WtrC",
    "outputId": "9d3109e7-b6e8-4ad4-a4c1-d7302c9d1171"
   },
   "outputs": [
    {
     "name": "stdout",
     "output_type": "stream",
     "text": [
      "[[2, 3, 4, 6, 5], [2, 3, 4, 7, 5], [2, 3, 4, 8, 5]]\n"
     ]
    }
   ],
   "source": [
    "# shakes[0]\n",
    "import tensorflow as tf\n",
    "\n",
    "# Define a list of sentences to tokenize\n",
    "sentences = [\n",
    "    'This is the first sentence.',\n",
    "    'This is the second sentence.',\n",
    "    'This is the third sentence.'\n",
    "]\n",
    "\n",
    "# Initialize a Tokenizer with default options\n",
    "tokenizer = tf.keras.preprocessing.text.Tokenizer(num_words= 10000, oov_token= \"<UNK>\")\n",
    "\n",
    "# Fit the Tokenizer on the input sentences\n",
    "tokenizer.fit_on_texts(sentences)\n",
    "\n",
    "# Convert the input sentences to sequences of integers\n",
    "sequences = tokenizer.texts_to_sequences(sentences)\n",
    "\n",
    "# Print the sequences of integers for each sentence\n",
    "print(sequences)\n",
    "\n"
   ]
  },
  {
   "cell_type": "code",
   "execution_count": null,
   "metadata": {
    "id": "qfX5-ResxIgq"
   },
   "outputs": [],
   "source": [
    "from tensorflow.keras.preprocessing.text import Tokenizer\n"
   ]
  },
  {
   "cell_type": "code",
   "execution_count": null,
   "metadata": {
    "id": "cckUvwBo5eif"
   },
   "outputs": [],
   "source": [
    "tokenizer = Tokenizer(num_words= 10000, oov_token= \"<UNK>\")\n",
    "tokenizer.fit_on_texts(tweets)"
   ]
  },
  {
   "cell_type": "code",
   "execution_count": null,
   "metadata": {
    "colab": {
     "base_uri": "https://localhost:8080/"
    },
    "executionInfo": {
     "elapsed": 22,
     "status": "ok",
     "timestamp": 1676942744794,
     "user": {
      "displayName": "Plabon paul.",
      "userId": "12792684054671737244"
     },
     "user_tz": -360
    },
    "id": "5vhvIkd8sxMv",
    "outputId": "1f68d8e1-a961-4e70-d9db-c956c5385bd8"
   },
   "outputs": [
    {
     "data": {
      "text/plain": [
       "('im grabbing a minute to post i feel greedy wrong',\n",
       " [[17, 3060, 7, 1149, 5, 286, 2, 3, 495, 438]])"
      ]
     },
     "execution_count": 13,
     "metadata": {},
     "output_type": "execute_result"
    }
   ],
   "source": [
    "tweets[2], tokenizer.texts_to_sequences([tweets[2]]) ### list korte hbe, like [  tweets[1]  ]"
   ]
  },
  {
   "cell_type": "markdown",
   "metadata": {
    "id": "i3Bqm7b2xIgu"
   },
   "source": [
    "## Task 5: Padding and Truncating Sequences\n",
    "\n",
    "1. Checking length of the tweets\n",
    "2. Creating padded sequences"
   ]
  },
  {
   "cell_type": "code",
   "execution_count": null,
   "metadata": {
    "colab": {
     "base_uri": "https://localhost:8080/",
     "height": 473
    },
    "executionInfo": {
     "elapsed": 589,
     "status": "ok",
     "timestamp": 1676942745364,
     "user": {
      "displayName": "Plabon paul.",
      "userId": "12792684054671737244"
     },
     "user_tz": -360
    },
    "id": "mLvf_WFZxIgu",
    "outputId": "577ae8bf-0b1b-4123-8a38-2a764e4f1da8"
   },
   "outputs": [
    {
     "data": {
      "text/plain": [
       "(array([  8.,  45., 310., 488., 539., 625., 626., 629., 613., 636., 654.,\n",
       "        655., 608., 622., 609., 603., 559., 535., 530., 510., 452., 430.,\n",
       "        382., 385., 330., 327., 336., 317., 238., 208., 200., 200., 167.,\n",
       "        157., 141., 144., 120., 117., 117.,  88.,  96.,  72.,  66.,  66.,\n",
       "         65.,  52.,  37.,  43.,  30.,  32.,  31.,  26.,  30.,  20.,  23.,\n",
       "         14.,   9.,  10.,   4.,   4.,   4.,   1.,   4.,   1.]),\n",
       " array([ 2.,  3.,  4.,  5.,  6.,  7.,  8.,  9., 10., 11., 12., 13., 14.,\n",
       "        15., 16., 17., 18., 19., 20., 21., 22., 23., 24., 25., 26., 27.,\n",
       "        28., 29., 30., 31., 32., 33., 34., 35., 36., 37., 38., 39., 40.,\n",
       "        41., 42., 43., 44., 45., 46., 47., 48., 49., 50., 51., 52., 53.,\n",
       "        54., 55., 56., 57., 58., 59., 60., 61., 62., 63., 64., 65., 66.]),\n",
       " <a list of 64 Patch objects>)"
      ]
     },
     "execution_count": 14,
     "metadata": {},
     "output_type": "execute_result"
    },
    {
     "data": {
      "image/png": "[encoded data removed]",
      "text/plain": [
       "<Figure size 432x288 with 1 Axes>"
      ]
     },
     "metadata": {
      "needs_background": "light"
     },
     "output_type": "display_data"
    }
   ],
   "source": [
    "lengths = [len(t.split(\" \")) for t in tweets]\n",
    "plt.hist(lengths, bins = len(set(lengths)))"
   ]
  },
  {
   "cell_type": "code",
   "execution_count": null,
   "metadata": {
    "colab": {
     "base_uri": "https://localhost:8080/",
     "height": 1000
    },
    "executionInfo": {
     "elapsed": 1172,
     "status": "ok",
     "timestamp": 1676847424637,
     "user": {
      "displayName": "Plabon paul.",
      "userId": "12792684054671737244"
     },
     "user_tz": -360
    },
    "id": "gUZuxknt5K0T",
    "outputId": "4940aff6-b78e-4565-d11e-f165d5461fe1"
   },
   "outputs": [
    {
     "data": {
      "text/plain": [
       "(array([  1.,   3.,   0.,   5.,   3.,   8.,  10.,  17.,  12.,  24.,  33.,\n",
       "         39.,  49.,  69.,  62.,  73.,  87.,  96.,  94.,  90., 122., 116.,\n",
       "        117., 125., 127., 113.,  99., 124., 115., 128., 140., 108., 126.,\n",
       "        129., 108., 124., 141., 121., 130., 134., 134., 136., 153., 120.,\n",
       "        145., 100., 120., 108., 139., 114., 106., 113., 137., 140., 132.,\n",
       "        118., 122., 133., 130., 124., 110., 153., 119., 155., 116., 131.,\n",
       "        141., 139., 116., 111., 104., 117., 140., 117., 115., 118., 107.,\n",
       "        114., 122., 139., 106., 113., 128.,  94., 123., 107., 115., 114.,\n",
       "        103.,  99.,  90., 101.,  88.,  94.,  96., 103.,  87., 109., 102.,\n",
       "         91.,  98.,  92., 107.,  97.,  82.,  89., 106.,  78.,  72.,  85.,\n",
       "         82.,  82.,  64.,  59.,  86.,  87.,  66.,  62.,  69.,  68.,  55.,\n",
       "         82.,  82.,  74.,  58.,  69.,  74.,  67.,  74.,  63.,  69.,  73.,\n",
       "         61.,  62.,  65.,  61.,  50.,  72.,  66.,  47.,  50.,  49.,  49.,\n",
       "         46.,  53.,  43.,  34.,  33.,  55.,  40.,  44.,  47.,  54.,  45.,\n",
       "         47.,  46.,  35.,  37.,  41.,  43.,  30.,  32.,  34.,  26.,  35.,\n",
       "         20.,  40.,  27.,  35.,  40.,  19.,  23.,  32.,  22.,  27.,  28.,\n",
       "         31.,  33.,  35.,  32.,  25.,  30.,  26.,  23.,  26.,  22.,  25.,\n",
       "         25.,  19.,  27.,  23.,  23.,  20.,  19.,  26.,  24.,  11.,  21.,\n",
       "         22.,  23.,  22.,  11.,  15.,  19.,  15.,  17.,  13.,  17.,  14.,\n",
       "         14.,  17.,  13.,  14.,  14.,  13.,   9.,  16.,   7.,   9.,  13.,\n",
       "         13.,  10.,  13.,   9.,  16.,  16.,  12.,  10.,  11.,  15.,  16.,\n",
       "          7.,  13.,  15.,   8.,   5.,  10.,   3.,  12.,  10.,   7.,  11.,\n",
       "         16.,   6.,   1.,   7.,  10.,   8.,   4.,  10.,  12.,  12.,   6.,\n",
       "          6.,   9.,   9.,   6.,   7.,   5.,   5.,   4.,   4.,   6.,   5.,\n",
       "          6.,   4.,   6.,   4.,   7.,   6.,   3.,   2.,   4.,   2.,   3.,\n",
       "          5.,   3.,   4.,   2.,   9.,   8.,   3.,   6.,   5.,   4.,   4.,\n",
       "          3.,   4.,   5.,   1.,   2.,   3.]),\n",
       " array([  7.        ,   8.00342466,   9.00684932,  10.01027397,\n",
       "         11.01369863,  12.01712329,  13.02054795,  14.0239726 ,\n",
       "         15.02739726,  16.03082192,  17.03424658,  18.03767123,\n",
       "         19.04109589,  20.04452055,  21.04794521,  22.05136986,\n",
       "         23.05479452,  24.05821918,  25.06164384,  26.06506849,\n",
       "         27.06849315,  28.07191781,  29.07534247,  30.07876712,\n",
       "         31.08219178,  32.08561644,  33.0890411 ,  34.09246575,\n",
       "         35.09589041,  36.09931507,  37.10273973,  38.10616438,\n",
       "         39.10958904,  40.1130137 ,  41.11643836,  42.11986301,\n",
       "         43.12328767,  44.12671233,  45.13013699,  46.13356164,\n",
       "         47.1369863 ,  48.14041096,  49.14383562,  50.14726027,\n",
       "         51.15068493,  52.15410959,  53.15753425,  54.1609589 ,\n",
       "         55.16438356,  56.16780822,  57.17123288,  58.17465753,\n",
       "         59.17808219,  60.18150685,  61.18493151,  62.18835616,\n",
       "         63.19178082,  64.19520548,  65.19863014,  66.20205479,\n",
       "         67.20547945,  68.20890411,  69.21232877,  70.21575342,\n",
       "         71.21917808,  72.22260274,  73.2260274 ,  74.22945205,\n",
       "         75.23287671,  76.23630137,  77.23972603,  78.24315068,\n",
       "         79.24657534,  80.25      ,  81.25342466,  82.25684932,\n",
       "         83.26027397,  84.26369863,  85.26712329,  86.27054795,\n",
       "         87.2739726 ,  88.27739726,  89.28082192,  90.28424658,\n",
       "         91.28767123,  92.29109589,  93.29452055,  94.29794521,\n",
       "         95.30136986,  96.30479452,  97.30821918,  98.31164384,\n",
       "         99.31506849, 100.31849315, 101.32191781, 102.32534247,\n",
       "        103.32876712, 104.33219178, 105.33561644, 106.3390411 ,\n",
       "        107.34246575, 108.34589041, 109.34931507, 110.35273973,\n",
       "        111.35616438, 112.35958904, 113.3630137 , 114.36643836,\n",
       "        115.36986301, 116.37328767, 117.37671233, 118.38013699,\n",
       "        119.38356164, 120.3869863 , 121.39041096, 122.39383562,\n",
       "        123.39726027, 124.40068493, 125.40410959, 126.40753425,\n",
       "        127.4109589 , 128.41438356, 129.41780822, 130.42123288,\n",
       "        131.42465753, 132.42808219, 133.43150685, 134.43493151,\n",
       "        135.43835616, 136.44178082, 137.44520548, 138.44863014,\n",
       "        139.45205479, 140.45547945, 141.45890411, 142.46232877,\n",
       "        143.46575342, 144.46917808, 145.47260274, 146.4760274 ,\n",
       "        147.47945205, 148.48287671, 149.48630137, 150.48972603,\n",
       "        151.49315068, 152.49657534, 153.5       , 154.50342466,\n",
       "        155.50684932, 156.51027397, 157.51369863, 158.51712329,\n",
       "        159.52054795, 160.5239726 , 161.52739726, 162.53082192,\n",
       "        163.53424658, 164.53767123, 165.54109589, 166.54452055,\n",
       "        167.54794521, 168.55136986, 169.55479452, 170.55821918,\n",
       "        171.56164384, 172.56506849, 173.56849315, 174.57191781,\n",
       "        175.57534247, 176.57876712, 177.58219178, 178.58561644,\n",
       "        179.5890411 , 180.59246575, 181.59589041, 182.59931507,\n",
       "        183.60273973, 184.60616438, 185.60958904, 186.6130137 ,\n",
       "        187.61643836, 188.61986301, 189.62328767, 190.62671233,\n",
       "        191.63013699, 192.63356164, 193.6369863 , 194.64041096,\n",
       "        195.64383562, 196.64726027, 197.65068493, 198.65410959,\n",
       "        199.65753425, 200.6609589 , 201.66438356, 202.66780822,\n",
       "        203.67123288, 204.67465753, 205.67808219, 206.68150685,\n",
       "        207.68493151, 208.68835616, 209.69178082, 210.69520548,\n",
       "        211.69863014, 212.70205479, 213.70547945, 214.70890411,\n",
       "        215.71232877, 216.71575342, 217.71917808, 218.72260274,\n",
       "        219.7260274 , 220.72945205, 221.73287671, 222.73630137,\n",
       "        223.73972603, 224.74315068, 225.74657534, 226.75      ,\n",
       "        227.75342466, 228.75684932, 229.76027397, 230.76369863,\n",
       "        231.76712329, 232.77054795, 233.7739726 , 234.77739726,\n",
       "        235.78082192, 236.78424658, 237.78767123, 238.79109589,\n",
       "        239.79452055, 240.79794521, 241.80136986, 242.80479452,\n",
       "        243.80821918, 244.81164384, 245.81506849, 246.81849315,\n",
       "        247.82191781, 248.82534247, 249.82876712, 250.83219178,\n",
       "        251.83561644, 252.8390411 , 253.84246575, 254.84589041,\n",
       "        255.84931507, 256.85273973, 257.85616438, 258.85958904,\n",
       "        259.8630137 , 260.86643836, 261.86986301, 262.87328767,\n",
       "        263.87671233, 264.88013699, 265.88356164, 266.8869863 ,\n",
       "        267.89041096, 268.89383562, 269.89726027, 270.90068493,\n",
       "        271.90410959, 272.90753425, 273.9109589 , 274.91438356,\n",
       "        275.91780822, 276.92123288, 277.92465753, 278.92808219,\n",
       "        279.93150685, 280.93493151, 281.93835616, 282.94178082,\n",
       "        283.94520548, 284.94863014, 285.95205479, 286.95547945,\n",
       "        287.95890411, 288.96232877, 289.96575342, 290.96917808,\n",
       "        291.97260274, 292.9760274 , 293.97945205, 294.98287671,\n",
       "        295.98630137, 296.98972603, 297.99315068, 298.99657534,\n",
       "        300.        ]),\n",
       " <a list of 292 Patch objects>)"
      ]
     },
     "execution_count": 41,
     "metadata": {},
     "output_type": "execute_result"
    },
    {
     "data": {
      "image/png": "[encoded data removed]",
      "text/plain": [
       "<Figure size 432x288 with 1 Axes>"
      ]
     },
     "metadata": {
      "needs_background": "light"
     },
     "output_type": "display_data"
    }
   ],
   "source": [
    "###for letter\n",
    "#lengths = [len(t) for t in tweets]\n",
    "#plt.hist(lengths, bins = len(set(lengths)))"
   ]
  },
  {
   "cell_type": "code",
   "execution_count": null,
   "metadata": {
    "id": "EOi5lIE3xIgx"
   },
   "outputs": [],
   "source": [
    "\n",
    "\n",
    "from tensorflow.keras.preprocessing.sequence import pad_sequences"
   ]
  },
  {
   "cell_type": "code",
   "execution_count": null,
   "metadata": {
    "id": "Q9J_Iemf5eiq"
   },
   "outputs": [],
   "source": [
    "maxlen = 70\n",
    "def get_sequences(tokenizer, tweets):\n",
    "  sequences = tokenizer.texts_to_sequences(tweets)\n",
    "  padded = pad_sequences(sequences, truncating='post', padding='post', maxlen = maxlen)\n",
    "  return padded"
   ]
  },
  {
   "cell_type": "code",
   "execution_count": null,
   "metadata": {
    "id": "eglH77ky5ei0"
   },
   "outputs": [],
   "source": [
    "padded_train_seq = get_sequences(tokenizer, tweets)"
   ]
  },
  {
   "cell_type": "code",
   "execution_count": null,
   "metadata": {
    "colab": {
     "base_uri": "https://localhost:8080/"
    },
    "executionInfo": {
     "elapsed": 549,
     "status": "ok",
     "timestamp": 1676942780709,
     "user": {
      "displayName": "Plabon paul.",
      "userId": "12792684054671737244"
     },
     "user_tz": -360
    },
    "id": "iGR473HA5ei7",
    "outputId": "3909196f-3964-410a-ad99-1c504c8a63b8"
   },
   "outputs": [
    {
     "data": {
      "text/plain": [
       "(array([   2,   40,  101,   60,    8,   15,  494,    5,   15, 3496,  553,\n",
       "          32,   60,   61,  128,  148,   76, 1480,    4,   22, 1255,    0,\n",
       "           0,    0,    0,    0,    0,    0,    0,    0,    0,    0,    0,\n",
       "           0,    0,    0,    0,    0,    0,    0,    0,    0,    0,    0,\n",
       "           0,    0,    0,    0,    0,    0,    0,    0,    0,    0,    0,\n",
       "           0,    0,    0,    0,    0,    0,    0,    0,    0,    0,    0,\n",
       "           0,    0,    0,    0], dtype=int32),\n",
       " 'i can go from feeling so hopeless to so damned hopeful just from being around someone who cares and is awake')"
      ]
     },
     "execution_count": 18,
     "metadata": {},
     "output_type": "execute_result"
    }
   ],
   "source": [
    "padded_train_seq[1], tweets[1]"
   ]
  },
  {
   "cell_type": "markdown",
   "metadata": {
    "id": "BURhOX_KxIg8"
   },
   "source": [
    "## Task 6: Preparing the Labels\n",
    "\n",
    "1. Creating classes to index and index to classes dictionaries\n",
    "2. Converting text labels to numeric labels"
   ]
  },
  {
   "cell_type": "code",
   "execution_count": null,
   "metadata": {
    "id": "SufT2bpD5ejE"
   },
   "outputs": [],
   "source": [
    "classes = { 0 : 'sadness', 1: 'joy', 2: 'love', 3: 'anger', 4: 'fear', 5: 'surprise'}"
   ]
  },
  {
   "cell_type": "code",
   "execution_count": null,
   "metadata": {
    "colab": {
     "base_uri": "https://localhost:8080/",
     "height": 36
    },
    "executionInfo": {
     "elapsed": 613,
     "status": "ok",
     "timestamp": 1676942789883,
     "user": {
      "displayName": "Plabon paul.",
      "userId": "12792684054671737244"
     },
     "user_tz": -360
    },
    "id": "rpwzL88I7YSm",
    "outputId": "625b73b5-6d48-4a5e-dd26-982fca8a26c1"
   },
   "outputs": [
    {
     "data": {
      "application/vnd.google.colaboratory.intrinsic+json": {
       "type": "string"
      },
      "text/plain": [
       "'sadness'"
      ]
     },
     "execution_count": 20,
     "metadata": {},
     "output_type": "execute_result"
    }
   ],
   "source": [
    "classes[0]"
   ]
  },
  {
   "cell_type": "code",
   "execution_count": null,
   "metadata": {
    "colab": {
     "base_uri": "https://localhost:8080/"
    },
    "executionInfo": {
     "elapsed": 3,
     "status": "ok",
     "timestamp": 1676942792031,
     "user": {
      "displayName": "Plabon paul.",
      "userId": "12792684054671737244"
     },
     "user_tz": -360
    },
    "id": "dNLF6rXL5ejN",
    "outputId": "4fa81cdf-de3f-45c2-e218-cd91d13e69cb"
   },
   "outputs": [
    {
     "data": {
      "text/plain": [
       "{0: 'sadness', 1: 'joy', 2: 'love', 3: 'anger', 4: 'fear', 5: 'surprise'}"
      ]
     },
     "execution_count": 21,
     "metadata": {},
     "output_type": "execute_result"
    }
   ],
   "source": [
    "classes"
   ]
  },
  {
   "cell_type": "code",
   "execution_count": null,
   "metadata": {
    "colab": {
     "base_uri": "https://localhost:8080/"
    },
    "executionInfo": {
     "elapsed": 570,
     "status": "ok",
     "timestamp": 1676945418530,
     "user": {
      "displayName": "Plabon paul.",
      "userId": "12792684054671737244"
     },
     "user_tz": -360
    },
    "id": "eN0GgKwVuzT3",
    "outputId": "296fff11-9626-4a4e-91ab-11da589ccf07"
   },
   "outputs": [
    {
     "data": {
      "text/plain": [
       "['sadness', 'joy', 'love', 'anger', 'fear']"
      ]
     },
     "execution_count": 52,
     "metadata": {},
     "output_type": "execute_result"
    }
   ],
   "source": [
    "list(classes[i] for i in range(5))"
   ]
  },
  {
   "cell_type": "code",
   "execution_count": null,
   "metadata": {
    "colab": {
     "base_uri": "https://localhost:8080/",
     "height": 369
    },
    "executionInfo": {
     "elapsed": 749,
     "status": "ok",
     "timestamp": 1676942797780,
     "user": {
      "displayName": "Plabon paul.",
      "userId": "12792684054671737244"
     },
     "user_tz": -360
    },
    "id": "_08InVyM5ejc",
    "outputId": "be814c71-0549-469d-922c-308887a4ad7a"
   },
   "outputs": [
    {
     "data": {
      "text/plain": [
       "(array([4666.,    0., 5362.,    0., 1304.,    0., 2159.,    0., 1937.,\n",
       "           0.,  572.]),\n",
       " array([0.        , 0.45454545, 0.90909091, 1.36363636, 1.81818182,\n",
       "        2.27272727, 2.72727273, 3.18181818, 3.63636364, 4.09090909,\n",
       "        4.54545455, 5.        ]),\n",
       " <a list of 11 Patch objects>)"
      ]
     },
     "execution_count": 22,
     "metadata": {},
     "output_type": "execute_result"
    },
    {
     "data": {
      "image/png": "[encoded data removed]",
      "text/plain": [
       "<Figure size 432x288 with 1 Axes>"
      ]
     },
     "metadata": {
      "needs_background": "light"
     },
     "output_type": "display_data"
    }
   ],
   "source": [
    "plt.hist(labels, bins=11)"
   ]
  },
  {
   "cell_type": "code",
   "execution_count": null,
   "metadata": {
    "id": "gpeDoA6gxIhE"
   },
   "outputs": [],
   "source": [
    "#class_to_idx = dict((c,i) for i, c in enumarate(classes))\n",
    "idx_to_class = dict((v,k) for k,v in classes.items())"
   ]
  },
  {
   "cell_type": "code",
   "execution_count": null,
   "metadata": {
    "colab": {
     "base_uri": "https://localhost:8080/"
    },
    "executionInfo": {
     "elapsed": 3,
     "status": "ok",
     "timestamp": 1676942806553,
     "user": {
      "displayName": "Plabon paul.",
      "userId": "12792684054671737244"
     },
     "user_tz": -360
    },
    "id": "Jq0WJYsP5ejR",
    "outputId": "0668d41c-5dbd-4a44-e888-a7b3f6ef5bc5"
   },
   "outputs": [
    {
     "data": {
      "text/plain": [
       "{'sadness': 0, 'joy': 1, 'love': 2, 'anger': 3, 'fear': 4, 'surprise': 5}"
      ]
     },
     "execution_count": 24,
     "metadata": {},
     "output_type": "execute_result"
    }
   ],
   "source": [
    "idx_to_class"
   ]
  },
  {
   "cell_type": "code",
   "execution_count": null,
   "metadata": {
    "id": "v15KnrNC5ejW"
   },
   "outputs": [],
   "source": [
    "#names_to_ids = lambda labels: np.array([classes.get(x) for x in labels]) # no_need, already numeric"
   ]
  },
  {
   "cell_type": "code",
   "execution_count": null,
   "metadata": {
    "colab": {
     "base_uri": "https://localhost:8080/"
    },
    "executionInfo": {
     "elapsed": 4,
     "status": "ok",
     "timestamp": 1676942812634,
     "user": {
      "displayName": "Plabon paul.",
      "userId": "12792684054671737244"
     },
     "user_tz": -360
    },
    "id": "D4lqCXMk_8FN",
    "outputId": "3ff1e3e0-7fb7-4e08-de4b-467db2f3210c"
   },
   "outputs": [
    {
     "data": {
      "text/plain": [
       "0"
      ]
     },
     "execution_count": 25,
     "metadata": {},
     "output_type": "execute_result"
    }
   ],
   "source": [
    "labels[0]"
   ]
  },
  {
   "cell_type": "code",
   "execution_count": null,
   "metadata": {
    "id": "JsLkDDNvpje5"
   },
   "outputs": [],
   "source": [
    "train_labels = np.array(labels)"
   ]
  },
  {
   "cell_type": "markdown",
   "metadata": {
    "id": "c-v0Mnh8xIhP"
   },
   "source": [
    "## Task 7: Creating the Model\n",
    "\n",
    "1. Creating the model\n",
    "2. Compiling the model"
   ]
  },
  {
   "cell_type": "code",
   "execution_count": null,
   "metadata": {
    "id": "OpewXxPQ5eji"
   },
   "outputs": [],
   "source": [
    "from keras.layers.attention.multi_head_attention import activation\n",
    "model = tf.keras.Sequential([\n",
    "    tf.keras.layers.Embedding(10000, 16, input_length= maxlen),\n",
    "    tf.keras.layers.Bidirectional(tf.keras.layers.LSTM(70, return_sequences= True)),\n",
    "    tf.keras.layers.Bidirectional(tf.keras.layers.LSTM(20, return_sequences= True)),\n",
    "    tf.keras.layers.Bidirectional(tf.keras.layers.LSTM(20)),\n",
    "    tf.keras.layers.Dense(6, activation= 'softmax')\n",
    "])\n",
    "\n",
    "model.compile(\n",
    "    loss = \"sparse_categorical_crossentropy\",\n",
    "    optimizer = 'adam',\n",
    "    metrics=['accuracy']\n",
    ")"
   ]
  },
  {
   "cell_type": "code",
   "execution_count": null,
   "metadata": {
    "colab": {
     "base_uri": "https://localhost:8080/"
    },
    "executionInfo": {
     "elapsed": 539,
     "status": "ok",
     "timestamp": 1676942832799,
     "user": {
      "displayName": "Plabon paul.",
      "userId": "12792684054671737244"
     },
     "user_tz": -360
    },
    "id": "DxO3Qi1VCupK",
    "outputId": "74f99be7-9fde-4ec9-c7a5-b5f5a903abf6"
   },
   "outputs": [
    {
     "name": "stdout",
     "output_type": "stream",
     "text": [
      "Model: \"sequential\"\n",
      "_________________________________________________________________\n",
      " Layer (type)                Output Shape              Param #   \n",
      "=================================================================\n",
      " embedding (Embedding)       (None, 70, 16)            160000    \n",
      "                                                                 \n",
      " bidirectional (Bidirectiona  (None, 70, 140)          48720     \n",
      " l)                                                              \n",
      "                                                                 \n",
      " bidirectional_1 (Bidirectio  (None, 70, 40)           25760     \n",
      " nal)                                                            \n",
      "                                                                 \n",
      " bidirectional_2 (Bidirectio  (None, 40)               9760      \n",
      " nal)                                                            \n",
      "                                                                 \n",
      " dense (Dense)               (None, 6)                 246       \n",
      "                                                                 \n",
      "=================================================================\n",
      "Total params: 244,486\n",
      "Trainable params: 244,486\n",
      "Non-trainable params: 0\n",
      "_________________________________________________________________\n"
     ]
    }
   ],
   "source": [
    "model.summary()"
   ]
  },
  {
   "cell_type": "markdown",
   "metadata": {
    "id": "1HST_CHjxIhR"
   },
   "source": [
    "## Task 8: Training the Model\n",
    "\n",
    "1. Preparing a validation set\n",
    "2. Training the model"
   ]
  },
  {
   "cell_type": "code",
   "execution_count": null,
   "metadata": {
    "id": "Ff7F3hCK5ejm"
   },
   "outputs": [],
   "source": [
    "\n",
    "def prepare_data(data, tokenizer): \n",
    "  tweets, labels = get_tweet(data)\n",
    "  labels = np.array(labels)\n",
    "  seq = get_sequences(tokenizer, tweets)\n",
    "\n",
    "  return tweets, labels, seq\n"
   ]
  },
  {
   "cell_type": "code",
   "execution_count": null,
   "metadata": {
    "colab": {
     "base_uri": "https://localhost:8080/"
    },
    "executionInfo": {
     "elapsed": 4,
     "status": "ok",
     "timestamp": 1676944209026,
     "user": {
      "displayName": "Plabon paul.",
      "userId": "12792684054671737244"
     },
     "user_tz": -360
    },
    "id": "hlMKaZ3H5ejr",
    "outputId": "aa8d86a2-836d-44a8-d262-06a9b05ad177"
   },
   "outputs": [
    {
     "data": {
      "text/plain": [
       "('im feeling quite sad and sorry for myself but ill snap out of it soon', 0)"
      ]
     },
     "execution_count": 37,
     "metadata": {},
     "output_type": "execute_result"
    }
   ],
   "source": [
    "val_tweets, val_labels, val_seq = prepare_data(val, tokenizer)\n",
    "\n",
    "val_tweets[0], val_labels[0]"
   ]
  },
  {
   "cell_type": "code",
   "execution_count": null,
   "metadata": {
    "colab": {
     "base_uri": "https://localhost:8080/"
    },
    "executionInfo": {
     "elapsed": 73794,
     "status": "ok",
     "timestamp": 1676944284193,
     "user": {
      "displayName": "Plabon paul.",
      "userId": "12792684054671737244"
     },
     "user_tz": -360
    },
    "id": "bzBqnWQ-5ejw",
    "outputId": "3a56f96d-2819-4871-9310-3e43310fc1eb"
   },
   "outputs": [
    {
     "name": "stdout",
     "output_type": "stream",
     "text": [
      "Epoch 1/20\n",
      "250/250 [==============================] - 10s 40ms/step - loss: 0.4037 - accuracy: 0.8629 - val_loss: 0.5232 - val_accuracy: 0.8340\n",
      "Epoch 2/20\n",
      "250/250 [==============================] - 8s 32ms/step - loss: 0.2813 - accuracy: 0.9120 - val_loss: 0.4890 - val_accuracy: 0.8425\n",
      "Epoch 3/20\n",
      "250/250 [==============================] - 7s 29ms/step - loss: 0.2104 - accuracy: 0.9369 - val_loss: 0.4528 - val_accuracy: 0.8645\n",
      "Epoch 4/20\n",
      "250/250 [==============================] - 8s 30ms/step - loss: 0.1675 - accuracy: 0.9480 - val_loss: 0.4565 - val_accuracy: 0.8655\n",
      "Epoch 5/20\n",
      "250/250 [==============================] - 7s 27ms/step - loss: 0.1411 - accuracy: 0.9561 - val_loss: 0.4055 - val_accuracy: 0.8930\n",
      "Epoch 6/20\n",
      "250/250 [==============================] - 7s 29ms/step - loss: 0.1186 - accuracy: 0.9629 - val_loss: 0.4188 - val_accuracy: 0.8815\n",
      "Epoch 7/20\n",
      "250/250 [==============================] - 6s 25ms/step - loss: 0.1793 - accuracy: 0.9460 - val_loss: 0.4158 - val_accuracy: 0.8880\n",
      "Epoch 8/20\n",
      "250/250 [==============================] - 7s 29ms/step - loss: 0.0972 - accuracy: 0.9712 - val_loss: 0.3716 - val_accuracy: 0.8915\n",
      "Epoch 9/20\n",
      "250/250 [==============================] - 6s 24ms/step - loss: 0.0818 - accuracy: 0.9775 - val_loss: 0.3956 - val_accuracy: 0.8920\n",
      "Epoch 10/20\n",
      "250/250 [==============================] - 7s 29ms/step - loss: 0.0712 - accuracy: 0.9780 - val_loss: 0.4052 - val_accuracy: 0.8915\n"
     ]
    }
   ],
   "source": [
    "h = model.fit(\n",
    "    padded_train_seq, train_labels,\n",
    "    validation_data = (val_seq,val_labels),\n",
    "    batch_size= 64,\n",
    "    epochs = 20,\n",
    "    validation_batch_size= 16,\n",
    "    callbacks= [\n",
    "        tf.keras.callbacks.EarlyStopping(monitor=\"val_accuracy\", patience= 5)\n",
    "    ]\n",
    ")"
   ]
  },
  {
   "cell_type": "markdown",
   "metadata": {
    "id": "EdsJyMTLxIhX"
   },
   "source": [
    "## Task 9: Evaluating the Model\n",
    "\n",
    "1. Visualizing training history\n",
    "2. Prepraring a test set\n",
    "3. A look at individual predictions on the test set\n",
    "4. A look at all predictions on the test set"
   ]
  },
  {
   "cell_type": "code",
   "execution_count": null,
   "metadata": {
    "colab": {
     "base_uri": "https://localhost:8080/",
     "height": 274
    },
    "executionInfo": {
     "elapsed": 20,
     "status": "ok",
     "timestamp": 1676944352814,
     "user": {
      "displayName": "Plabon paul.",
      "userId": "12792684054671737244"
     },
     "user_tz": -360
    },
    "id": "ENCfvXeLxIhX",
    "outputId": "0c4e118f-ee59-4c1c-f54c-ab59a3e10d3d"
   },
   "outputs": [
    {
     "data": {
      "image/png": "[encoded data removed]",
      "text/plain": [
       "<Figure size 1152x432 with 2 Axes>"
      ]
     },
     "metadata": {
      "needs_background": "light"
     },
     "output_type": "display_data"
    }
   ],
   "source": [
    "show_history(h)"
   ]
  },
  {
   "cell_type": "code",
   "execution_count": null,
   "metadata": {
    "colab": {
     "base_uri": "https://localhost:8080/"
    },
    "executionInfo": {
     "elapsed": 778,
     "status": "ok",
     "timestamp": 1676944609406,
     "user": {
      "displayName": "Plabon paul.",
      "userId": "12792684054671737244"
     },
     "user_tz": -360
    },
    "id": "kWuzoz8uxIha",
    "outputId": "4666f732-f9ea-40c5-f6a2-692acc37c240"
   },
   "outputs": [
    {
     "data": {
      "text/plain": [
       "('im feeling rather rotten so im not very ambitious right now', 'sadness')"
      ]
     },
     "execution_count": 42,
     "metadata": {},
     "output_type": "execute_result"
    }
   ],
   "source": [
    "test_tweets, test_labels, test_seq = prepare_data(test, tokenizer)\n",
    "\n",
    "test_tweets[0], classes[test_labels[0]]"
   ]
  },
  {
   "cell_type": "code",
   "execution_count": null,
   "metadata": {
    "colab": {
     "base_uri": "https://localhost:8080/"
    },
    "executionInfo": {
     "elapsed": 3280,
     "status": "ok",
     "timestamp": 1676944529647,
     "user": {
      "displayName": "Plabon paul.",
      "userId": "12792684054671737244"
     },
     "user_tz": -360
    },
    "id": "7vRVJ_2SxIhc",
    "outputId": "ba606d0c-d311-40b3-8664-fc50ff20245c"
   },
   "outputs": [
    {
     "name": "stdout",
     "output_type": "stream",
     "text": [
      "63/63 [==============================] - 3s 11ms/step - loss: 0.3740 - accuracy: 0.8990\n"
     ]
    }
   ],
   "source": [
    "_ = model.evaluate(test_seq, test_labels)"
   ]
  },
  {
   "cell_type": "code",
   "execution_count": null,
   "metadata": {
    "colab": {
     "base_uri": "https://localhost:8080/"
    },
    "executionInfo": {
     "elapsed": 1387,
     "status": "ok",
     "timestamp": 1676945150058,
     "user": {
      "displayName": "Plabon paul.",
      "userId": "12792684054671737244"
     },
     "user_tz": -360
    },
    "id": "rh638vHG5ej6",
    "outputId": "7b7c3a54-7288-4965-f795-f54079a1e25d"
   },
   "outputs": [
    {
     "name": "stdout",
     "output_type": "stream",
     "text": [
      "Sentence:  i feel a little glamorous i wet the brush\n",
      "Real Emotion :  joy\n",
      "1/1 [==============================] - 0s 27ms/step\n",
      " Predicted Emotion :  joy\n"
     ]
    }
   ],
   "source": [
    "i = random.randint(0, len(test_labels)-1)\n",
    "\n",
    "print(\"Sentence: \", test_tweets[i])\n",
    "print(\"Real Emotion : \", classes[test_labels[i]])\n",
    "\n",
    "p = model.predict(np.expand_dims(test_seq[i], axis=0))[0]\n",
    "\n",
    "pred_class = classes[np.argmax(p).astype('uint8')]\n",
    "\n",
    "print(\" Predicted Emotion : \", pred_class)"
   ]
  },
  {
   "cell_type": "code",
   "execution_count": null,
   "metadata": {
    "colab": {
     "base_uri": "https://localhost:8080/"
    },
    "executionInfo": {
     "elapsed": 1583,
     "status": "ok",
     "timestamp": 1676945747717,
     "user": {
      "displayName": "Plabon paul.",
      "userId": "12792684054671737244"
     },
     "user_tz": -360
    },
    "id": "I11G-_hOuZOG",
    "outputId": "c8cf329f-e956-48eb-9feb-c930b14b4e56"
   },
   "outputs": [
    {
     "name": "stdout",
     "output_type": "stream",
     "text": [
      "63/63 [==============================] - 1s 10ms/step\n"
     ]
    }
   ],
   "source": [
    "preds = np.argmax(model.predict(test_seq), axis=-1)"
   ]
  },
  {
   "cell_type": "code",
   "execution_count": null,
   "metadata": {
    "colab": {
     "base_uri": "https://localhost:8080/",
     "height": 472
    },
    "executionInfo": {
     "elapsed": 19,
     "status": "ok",
     "timestamp": 1676945751241,
     "user": {
      "displayName": "Plabon paul.",
      "userId": "12792684054671737244"
     },
     "user_tz": -360
    },
    "id": "hHl5SVCFxIhh",
    "outputId": "9d215582-4b4d-4a06-ff85-d762416e1608"
   },
   "outputs": [
    {
     "data": {
      "image/png": "[encoded data removed]",
      "text/plain": [
       "<Figure size 576x576 with 2 Axes>"
      ]
     },
     "metadata": {
      "needs_background": "light"
     },
     "output_type": "display_data"
    }
   ],
   "source": [
    "show_confusion_matrix(test_labels, preds, list(classes[i] for i in range(5)))"
   ]
  },
  {
   "cell_type": "code",
   "execution_count": null,
   "metadata": {
    "id": "NC8YQ0OexIhj"
   },
   "outputs": [],
   "source": []
  }
 ],
 "metadata": {
  "accelerator": "GPU",
  "colab": {
   "provenance": [
    {
     "file_id": "1ZfJY10peZyo8NRBhtNJNcIUY_ehJs_Aw",
     "timestamp": 1676757729561
    }
   ]
  },
  "kernelspec": {
   "display_name": "Python 3 (ipykernel)",
   "language": "python",
   "name": "python3"
  },
  "language_info": {
   "codemirror_mode": {
    "name": "ipython",
    "version": 3
   },
   "file_extension": ".py",
   "mimetype": "text/x-python",
   "name": "python",
   "nbconvert_exporter": "python",
   "pygments_lexer": "ipython3",
   "version": "3.11.5"
  },
  "widgets": {
   "application/vnd.jupyter.widget-state+json": {
    "2e7a674a4d474178bbb54cf70d205a03": {
     "model_module": "@jupyter-widgets/controls",
     "model_module_version": "1.5.0",
     "model_name": "DescriptionStyleModel",
     "state": {
      "_model_module": "@jupyter-widgets/controls",
      "_model_module_version": "1.5.0",
      "_model_name": "DescriptionStyleModel",
      "_view_count": null,
      "_view_module": "@jupyter-widgets/base",
      "_view_module_version": "1.2.0",
      "_view_name": "StyleView",
      "description_width": ""
     }
    },
    "58a01055b5fc4ae7a8f23786f19d4a35": {
     "model_module": "@jupyter-widgets/controls",
     "model_module_version": "1.5.0",
     "model_name": "DescriptionStyleModel",
     "state": {
      "_model_module": "@jupyter-widgets/controls",
      "_model_module_version": "1.5.0",
      "_model_name": "DescriptionStyleModel",
      "_view_count": null,
      "_view_module": "@jupyter-widgets/base",
      "_view_module_version": "1.2.0",
      "_view_name": "StyleView",
      "description_width": ""
     }
    },
    "769d128ac08e4c4d88fbbc8fe5e6688b": {
     "model_module": "@jupyter-widgets/base",
     "model_module_version": "1.2.0",
     "model_name": "LayoutModel",
     "state": {
      "_model_module": "@jupyter-widgets/base",
      "_model_module_version": "1.2.0",
      "_model_name": "LayoutModel",
      "_view_count": null,
      "_view_module": "@jupyter-widgets/base",
      "_view_module_version": "1.2.0",
      "_view_name": "LayoutView",
      "align_content": null,
      "align_items": null,
      "align_self": null,
      "border": null,
      "bottom": null,
      "display": null,
      "flex": null,
      "flex_flow": null,
      "grid_area": null,
      "grid_auto_columns": null,
      "grid_auto_flow": null,
      "grid_auto_rows": null,
      "grid_column": null,
      "grid_gap": null,
      "grid_row": null,
      "grid_template_areas": null,
      "grid_template_columns": null,
      "grid_template_rows": null,
      "height": null,
      "justify_content": null,
      "justify_items": null,
      "left": null,
      "margin": null,
      "max_height": null,
      "max_width": null,
      "min_height": null,
      "min_width": null,
      "object_fit": null,
      "object_position": null,
      "order": null,
      "overflow": null,
      "overflow_x": null,
      "overflow_y": null,
      "padding": null,
      "right": null,
      "top": null,
      "visibility": null,
      "width": null
     }
    },
    "7a68d710185e4af7901f2afc44f02a11": {
     "model_module": "@jupyter-widgets/controls",
     "model_module_version": "1.5.0",
     "model_name": "ProgressStyleModel",
     "state": {
      "_model_module": "@jupyter-widgets/controls",
      "_model_module_version": "1.5.0",
      "_model_name": "ProgressStyleModel",
      "_view_count": null,
      "_view_module": "@jupyter-widgets/base",
      "_view_module_version": "1.2.0",
      "_view_name": "StyleView",
      "bar_color": null,
      "description_width": ""
     }
    },
    "9460f3c08ac24d86bedb0dc84c9e2446": {
     "model_module": "@jupyter-widgets/controls",
     "model_module_version": "1.5.0",
     "model_name": "HTMLModel",
     "state": {
      "_dom_classes": [],
      "_model_module": "@jupyter-widgets/controls",
      "_model_module_version": "1.5.0",
      "_model_name": "HTMLModel",
      "_view_count": null,
      "_view_module": "@jupyter-widgets/controls",
      "_view_module_version": "1.5.0",
      "_view_name": "HTMLView",
      "description": "",
      "description_tooltip": null,
      "layout": "IPY_MODEL_769d128ac08e4c4d88fbbc8fe5e6688b",
      "placeholder": "​",
      "style": "IPY_MODEL_58a01055b5fc4ae7a8f23786f19d4a35",
      "value": "100%"
     }
    },
    "988dc3f698f74e53a726cddea85cdc23": {
     "model_module": "@jupyter-widgets/base",
     "model_module_version": "1.2.0",
     "model_name": "LayoutModel",
     "state": {
      "_model_module": "@jupyter-widgets/base",
      "_model_module_version": "1.2.0",
      "_model_name": "LayoutModel",
      "_view_count": null,
      "_view_module": "@jupyter-widgets/base",
      "_view_module_version": "1.2.0",
      "_view_name": "LayoutView",
      "align_content": null,
      "align_items": null,
      "align_self": null,
      "border": null,
      "bottom": null,
      "display": null,
      "flex": null,
      "flex_flow": null,
      "grid_area": null,
      "grid_auto_columns": null,
      "grid_auto_flow": null,
      "grid_auto_rows": null,
      "grid_column": null,
      "grid_gap": null,
      "grid_row": null,
      "grid_template_areas": null,
      "grid_template_columns": null,
      "grid_template_rows": null,
      "height": null,
      "justify_content": null,
      "justify_items": null,
      "left": null,
      "margin": null,
      "max_height": null,
      "max_width": null,
      "min_height": null,
      "min_width": null,
      "object_fit": null,
      "object_position": null,
      "order": null,
      "overflow": null,
      "overflow_x": null,
      "overflow_y": null,
      "padding": null,
      "right": null,
      "top": null,
      "visibility": null,
      "width": null
     }
    },
    "9e86cf44d92643049316ea8316a525c1": {
     "model_module": "@jupyter-widgets/controls",
     "model_module_version": "1.5.0",
     "model_name": "FloatProgressModel",
     "state": {
      "_dom_classes": [],
      "_model_module": "@jupyter-widgets/controls",
      "_model_module_version": "1.5.0",
      "_model_name": "FloatProgressModel",
      "_view_count": null,
      "_view_module": "@jupyter-widgets/controls",
      "_view_module_version": "1.5.0",
      "_view_name": "ProgressView",
      "bar_style": "success",
      "description": "",
      "description_tooltip": null,
      "layout": "IPY_MODEL_dc307ccf3d2d4d76923878b2de8d450e",
      "max": 3,
      "min": 0,
      "orientation": "horizontal",
      "style": "IPY_MODEL_7a68d710185e4af7901f2afc44f02a11",
      "value": 3
     }
    },
    "b0eea98cf15e4e52a9928a292bda4a2d": {
     "model_module": "@jupyter-widgets/controls",
     "model_module_version": "1.5.0",
     "model_name": "HBoxModel",
     "state": {
      "_dom_classes": [],
      "_model_module": "@jupyter-widgets/controls",
      "_model_module_version": "1.5.0",
      "_model_name": "HBoxModel",
      "_view_count": null,
      "_view_module": "@jupyter-widgets/controls",
      "_view_module_version": "1.5.0",
      "_view_name": "HBoxView",
      "box_style": "",
      "children": [
       "IPY_MODEL_9460f3c08ac24d86bedb0dc84c9e2446",
       "IPY_MODEL_9e86cf44d92643049316ea8316a525c1",
       "IPY_MODEL_e4507ab0fe26484bb100a53e80593c2e"
      ],
      "layout": "IPY_MODEL_988dc3f698f74e53a726cddea85cdc23"
     }
    },
    "bb3bda2334f44a31bb66957576e2db12": {
     "model_module": "@jupyter-widgets/base",
     "model_module_version": "1.2.0",
     "model_name": "LayoutModel",
     "state": {
      "_model_module": "@jupyter-widgets/base",
      "_model_module_version": "1.2.0",
      "_model_name": "LayoutModel",
      "_view_count": null,
      "_view_module": "@jupyter-widgets/base",
      "_view_module_version": "1.2.0",
      "_view_name": "LayoutView",
      "align_content": null,
      "align_items": null,
      "align_self": null,
      "border": null,
      "bottom": null,
      "display": null,
      "flex": null,
      "flex_flow": null,
      "grid_area": null,
      "grid_auto_columns": null,
      "grid_auto_flow": null,
      "grid_auto_rows": null,
      "grid_column": null,
      "grid_gap": null,
      "grid_row": null,
      "grid_template_areas": null,
      "grid_template_columns": null,
      "grid_template_rows": null,
      "height": null,
      "justify_content": null,
      "justify_items": null,
      "left": null,
      "margin": null,
      "max_height": null,
      "max_width": null,
      "min_height": null,
      "min_width": null,
      "object_fit": null,
      "object_position": null,
      "order": null,
      "overflow": null,
      "overflow_x": null,
      "overflow_y": null,
      "padding": null,
      "right": null,
      "top": null,
      "visibility": null,
      "width": null
     }
    },
    "dc307ccf3d2d4d76923878b2de8d450e": {
     "model_module": "@jupyter-widgets/base",
     "model_module_version": "1.2.0",
     "model_name": "LayoutModel",
     "state": {
      "_model_module": "@jupyter-widgets/base",
      "_model_module_version": "1.2.0",
      "_model_name": "LayoutModel",
      "_view_count": null,
      "_view_module": "@jupyter-widgets/base",
      "_view_module_version": "1.2.0",
      "_view_name": "LayoutView",
      "align_content": null,
      "align_items": null,
      "align_self": null,
      "border": null,
      "bottom": null,
      "display": null,
      "flex": null,
      "flex_flow": null,
      "grid_area": null,
      "grid_auto_columns": null,
      "grid_auto_flow": null,
      "grid_auto_rows": null,
      "grid_column": null,
      "grid_gap": null,
      "grid_row": null,
      "grid_template_areas": null,
      "grid_template_columns": null,
      "grid_template_rows": null,
      "height": null,
      "justify_content": null,
      "justify_items": null,
      "left": null,
      "margin": null,
      "max_height": null,
      "max_width": null,
      "min_height": null,
      "min_width": null,
      "object_fit": null,
      "object_position": null,
      "order": null,
      "overflow": null,
      "overflow_x": null,
      "overflow_y": null,
      "padding": null,
      "right": null,
      "top": null,
      "visibility": null,
      "width": null
     }
    },
    "e4507ab0fe26484bb100a53e80593c2e": {
     "model_module": "@jupyter-widgets/controls",
     "model_module_version": "1.5.0",
     "model_name": "HTMLModel",
     "state": {
      "_dom_classes": [],
      "_model_module": "@jupyter-widgets/controls",
      "_model_module_version": "1.5.0",
      "_model_name": "HTMLModel",
      "_view_count": null,
      "_view_module": "@jupyter-widgets/controls",
      "_view_module_version": "1.5.0",
      "_view_name": "HTMLView",
      "description": "",
      "description_tooltip": null,
      "layout": "IPY_MODEL_bb3bda2334f44a31bb66957576e2db12",
      "placeholder": "​",
      "style": "IPY_MODEL_2e7a674a4d474178bbb54cf70d205a03",
      "value": " 3/3 [00:00&lt;00:00, 69.00it/s]"
     }
    }
   }
  }
 },
 "nbformat": 4,
 "nbformat_minor": 1
}
